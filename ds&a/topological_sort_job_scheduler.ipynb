{
 "cells": [
  {
   "cell_type": "code",
   "execution_count": 13,
   "metadata": {},
   "outputs": [
    {
     "data": {
      "text/plain": [
       "[4, 0, 2, 1, 5, 3]"
      ]
     },
     "execution_count": 13,
     "metadata": {},
     "output_type": "execute_result"
    }
   ],
   "source": [
    "from collections import defaultdict\n",
    "import heapq\n",
    "dependencies=[[0,1],[0,2],[1,3],[4,5]]\n",
    "task_info={0:{\"start\": 1610, \"duration\":10},\n",
    "         1:{\"start\": 1620, \"duration\":10},\n",
    "         2:{\"start\":1615, \"duration\":10},\n",
    "         3:{\"start\":1630, \"duration\":10},\n",
    "         4:{\"start\":1590, \"duration\":10},\n",
    "          5:{\"start\":1620, \"duration\":10}}\n",
    "\n",
    "\n",
    "class Graph:\n",
    "    def __init__(self,dependencies, task_info):\n",
    "        self.graph=self.build_graph(dependencies)\n",
    "        self.task_info = task_info\n",
    "        self.tasks = list(self.task_info.keys())\n",
    "        self.indegree = self.build_indegree(self.graph)\n",
    "    def build_graph(self, dependencies):\n",
    "        graph = defaultdict(list)\n",
    "        for u,v in dependencies:\n",
    "            graph[u].append(v)\n",
    "        return graph\n",
    "    \n",
    "    def build_indegree(self, graph):\n",
    "        indegree = {k: 0 for k in self.tasks}\n",
    "        for k in graph:\n",
    "            for c in graph[k]:\n",
    "                indegree[c] += 1\n",
    "        return indegree\n",
    "    \n",
    "    def topological_sort(self):\n",
    "        q = []\n",
    "        for k in self.indegree:\n",
    "            if self.indegree[k]==0:\n",
    "                heapq.heappush(q, (self.task_info[k]['start'], k))\n",
    "        res=[]\n",
    "        while q:\n",
    "            start_time, task = heapq.heappop(q)\n",
    "            res.append(task)\n",
    "            for nei in self.graph[task]:\n",
    "                self.indegree[nei]-=1\n",
    "                if self.indegree[nei]==0:\n",
    "                    heapq.heappush(q, (self.task_info[nei]['start'], nei))\n",
    "        return res\n",
    "\n",
    "g= Graph(dependencies, task_info)\n",
    "g.topological_sort()"
   ]
  },
  {
   "cell_type": "code",
   "execution_count": null,
   "metadata": {},
   "outputs": [],
   "source": [
    "#     def helper(self,v,visited,stack):\n",
    "  \n",
    "#         # Mark the current node as visited.\n",
    "#         visited[v] = True\n",
    "  \n",
    "#         # Recur for all the vertices adjacent to this vertex\n",
    "#         for i in self.graph[v]:\n",
    "#             if not visited[i] :\n",
    "#                 self.helper(i,visited,stack)\n",
    "  \n",
    "#         # Push current vertex to stack which stores result\n",
    "#         stack.append(v)\n",
    "  \n",
    "#     def topological_sort(self):\n",
    "#         # Mark all the vertices as not visited\n",
    "#         visited = [False]*self.V\n",
    "#         stack =[]\n",
    "  \n",
    "#         for i in range(self.V):\n",
    "#             if not visited[i]:\n",
    "#                 self.helper(i,visited,stack)\n",
    "  \n",
    "#         return stack[::-1]"
   ]
  },
  {
   "cell_type": "code",
   "execution_count": null,
   "metadata": {},
   "outputs": [],
   "source": []
  },
  {
   "cell_type": "code",
   "execution_count": null,
   "metadata": {},
   "outputs": [],
   "source": []
  }
 ],
 "metadata": {
  "kernelspec": {
   "display_name": "Python 3",
   "language": "python",
   "name": "python3"
  },
  "language_info": {
   "codemirror_mode": {
    "name": "ipython",
    "version": 3
   },
   "file_extension": ".py",
   "mimetype": "text/x-python",
   "name": "python",
   "nbconvert_exporter": "python",
   "pygments_lexer": "ipython3",
   "version": "3.8.3"
  },
  "toc": {
   "base_numbering": 1,
   "nav_menu": {},
   "number_sections": true,
   "sideBar": true,
   "skip_h1_title": false,
   "title_cell": "Table of Contents",
   "title_sidebar": "Contents",
   "toc_cell": false,
   "toc_position": {},
   "toc_section_display": true,
   "toc_window_display": false
  }
 },
 "nbformat": 4,
 "nbformat_minor": 2
}
