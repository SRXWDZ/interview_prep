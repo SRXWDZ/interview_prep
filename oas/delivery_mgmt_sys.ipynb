{
 "cells": [
  {
   "cell_type": "code",
   "execution_count": null,
   "metadata": {},
   "outputs": [],
   "source": [
    "from collections import deque\n",
    "from sortedcontainers import SortedList\n"
   ]
  },
  {
   "cell_type": "code",
   "execution_count": 42,
   "metadata": {},
   "outputs": [
    {
     "name": "stdout",
     "output_type": "stream",
     "text": [
      "31.4 µs ± 2.79 µs per loop (mean ± std. dev. of 7 runs, 10000 loops each)\n"
     ]
    }
   ],
   "source": [
    "%%timeit\n",
    "def order(city_nodes, city_from, city_to, company):\n",
    "    visit = [False] * (city_nodes + 1)\n",
    "    \n",
    "    graph=defaultdict(SortedList)\n",
    "    for a, b in zip(city_from, city_to):\n",
    "        graph[a].add(b)\n",
    "        graph[b].add(a)\n",
    "    \n",
    "\n",
    "    result = []\n",
    "    tmp = [company]\n",
    "    visit[company] = True\n",
    "    while tmp:\n",
    "        q = deque(tmp)\n",
    "        tmp = []\n",
    "        while q:\n",
    "            cur = q.popleft()\n",
    "            \n",
    "            for n in graph[cur]:\n",
    "                if not visit[n]:\n",
    "                    visit[n] = True\n",
    "                    tmp.append(n)\n",
    "\n",
    "        tmp.sort()\n",
    "        result.extend(tmp)\n",
    "            \n",
    "    return result\n",
    "\n",
    "    \n",
    "order(10,[1,1,3,3,7,2,2,2,4],[2,3,6,7,8,10,5,4,9],1)"
   ]
  },
  {
   "cell_type": "code",
   "execution_count": null,
   "metadata": {},
   "outputs": [],
   "source": []
  }
 ],
 "metadata": {
  "kernelspec": {
   "display_name": "Python 3",
   "language": "python",
   "name": "python3"
  },
  "language_info": {
   "codemirror_mode": {
    "name": "ipython",
    "version": 3
   },
   "file_extension": ".py",
   "mimetype": "text/x-python",
   "name": "python",
   "nbconvert_exporter": "python",
   "pygments_lexer": "ipython3",
   "version": "3.6.13"
  }
 },
 "nbformat": 4,
 "nbformat_minor": 2
}
