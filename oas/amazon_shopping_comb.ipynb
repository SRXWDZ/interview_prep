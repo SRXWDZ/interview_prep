{
 "cells": [
  {
   "cell_type": "code",
   "execution_count": 25,
   "metadata": {},
   "outputs": [
    {
     "data": {
      "text/plain": [
       "'\\npriceOfJeans = [2, 3]\\npriceOfShoes = [4]\\npriceOfSkirts = [2, 3]\\npriceOfTops = [1, 2]\\nbudgeted = 10\\nThe customer must buy shoes for 4 dollars since there is only one option. \\nThis leaves 6 dollars to spend on the other 3 items. \\nCombinations of prices paid for jeans, skirts, and tops respectively that add up to 6 dollars or less are [2, 2, 2], [2, 2, 1], [3, 2, 1], [2, 3, 1]. \\nThere are 4 ways the customer can purchase all 4 items.\\n'"
      ]
     },
     "execution_count": 25,
     "metadata": {},
     "output_type": "execute_result"
    }
   ],
   "source": [
    "import itertools\n",
    "items = [[2,3],[4],[2,3],[1,2]]\n",
    "\"\"\"\n",
    "priceOfJeans = [2, 3]\n",
    "priceOfShoes = [4]\n",
    "priceOfSkirts = [2, 3]\n",
    "priceOfTops = [1, 2]\n",
    "budgeted = 10\n",
    "The customer must buy shoes for 4 dollars since there is only one option. \n",
    "This leaves 6 dollars to spend on the other 3 items. \n",
    "Combinations of prices paid for jeans, skirts, and tops respectively that add up to 6 dollars or less are [2, 2, 2], [2, 2, 1], [3, 2, 1], [2, 3, 1]. \n",
    "There are 4 ways the customer can purchase all 4 items.\n",
    "\"\"\""
   ]
  },
  {
   "cell_type": "code",
   "execution_count": 26,
   "metadata": {
    "scrolled": true
   },
   "outputs": [
    {
     "name": "stdout",
     "output_type": "stream",
     "text": [
      "3.84 µs ± 44.7 ns per loop (mean ± std. dev. of 7 runs, 100000 loops each)\n"
     ]
    }
   ],
   "source": [
    "%%timeit\n",
    "def possible_combinations1(items, budget):\n",
    "    if budget < 0:\n",
    "        return 0\n",
    "    if len(items) == 1:\n",
    "        return count_in_budget(items[0], budget)\n",
    "    cnt = 0\n",
    "    for price in items[0]:\n",
    "        if price <= budget:\n",
    "            cnt += possible_combinations1(items[1:], budget - price)\n",
    "    return cnt\n",
    "\n",
    "def count_in_budget(prices, budget):\n",
    "    cnt = 0\n",
    "    for price in prices:\n",
    "        if price <= budget:\n",
    "            cnt += 1\n",
    "    return cnt\n",
    "\n",
    "possible_combinations1(items,10)"
   ]
  },
  {
   "cell_type": "code",
   "execution_count": 27,
   "metadata": {},
   "outputs": [
    {
     "name": "stdout",
     "output_type": "stream",
     "text": [
      "2.29 µs ± 12.3 ns per loop (mean ± std. dev. of 7 runs, 100000 loops each)\n"
     ]
    }
   ],
   "source": [
    "%%timeit\n",
    "def possible_combinations2(items, budget):\n",
    "    all_combinations = list(itertools.product(*items))\n",
    "    possible_combinations=[]\n",
    "    counter=0\n",
    "    for row in all_combinations:\n",
    "        sum_elements = 0\n",
    "        for elem in row:\n",
    "            sum_elements+= elem\n",
    "        if(sum_elements<=budget):\n",
    "            counter+=1\n",
    "    return counter\n",
    "possible_combinations2(items,10)"
   ]
  },
  {
   "cell_type": "code",
   "execution_count": null,
   "metadata": {},
   "outputs": [],
   "source": [
    "%%timeit\n",
    "def possible_combinations3(items, budget):\n",
    "    def product(*args, repeat=1):\n",
    "        pools = [pool for pool in args] * repeat\n",
    "        result = [[]]\n",
    "        for pool in pools:\n",
    "            result = [x+[y] for x in result for y in pool]\n",
    "        return result\n",
    "    all_combinations = list(product(*items))\n",
    "    possible_combinations=[]\n",
    "    counter=0\n",
    "    for row in all_combinations:\n",
    "        sum_elements = 0\n",
    "        for elem in row:\n",
    "            sum_elements+= elem\n",
    "        if sum_elements<=budget:\n",
    "            counter+=1\n",
    "    return counter\n",
    "possible_combinations3(items,10)"
   ]
  },
  {
   "cell_type": "code",
   "execution_count": null,
   "metadata": {},
   "outputs": [],
   "source": []
  },
  {
   "cell_type": "code",
   "execution_count": null,
   "metadata": {},
   "outputs": [],
   "source": []
  },
  {
   "cell_type": "code",
   "execution_count": null,
   "metadata": {},
   "outputs": [],
   "source": []
  },
  {
   "cell_type": "code",
   "execution_count": null,
   "metadata": {},
   "outputs": [],
   "source": []
  }
 ],
 "metadata": {
  "kernelspec": {
   "display_name": "Python 3",
   "language": "python",
   "name": "python3"
  },
  "language_info": {
   "codemirror_mode": {
    "name": "ipython",
    "version": 3
   },
   "file_extension": ".py",
   "mimetype": "text/x-python",
   "name": "python",
   "nbconvert_exporter": "python",
   "pygments_lexer": "ipython3",
   "version": "3.6.13"
  }
 },
 "nbformat": 4,
 "nbformat_minor": 2
}
