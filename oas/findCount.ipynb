{
 "cells": [
  {
   "cell_type": "code",
   "execution_count": 3,
   "metadata": {},
   "outputs": [
    {
     "data": {
      "text/plain": [
       "12"
      ]
     },
     "execution_count": 3,
     "metadata": {},
     "output_type": "execute_result"
    }
   ],
   "source": [
    "def find_count2(graph_nodes,graph_from,graph_to,graph_weight,minDistance,company):\n",
    "    \n",
    "\n",
    "    d = {}\n",
    "    for i in range(len(graph_from)):\n",
    "        d[graph_from[i]]={\"allow\":[],\"not_allow\":[]}\n",
    "        d[graph_to[i]]={\"allow\":[],\"not_allow\":[]}\n",
    "        \n",
    "\n",
    "    for i, pair in enumerate(zip(graph_from, graph_to)):\n",
    "        from_, to_ = pair[0], pair[1]\n",
    "        if graph_weight[i] > minDistance:\n",
    "            if from_ < to_:\n",
    "                d[from_]['allow'].append(to_)\n",
    "            else:\n",
    "                d[to_]['allow'].append(from_)\n",
    "        else:\n",
    "            if from_ < to_:\n",
    "                d[from_]['not_allow'].append(to_)\n",
    "            else:\n",
    "                d[to_]['not_allow'].append(from_)\n",
    "            \n",
    "\n",
    "    for k,v in d.items():\n",
    "        d[k]['allow']=sorted(v['allow'])\n",
    "        d[k]['not_allow']=sorted(v['not_allow'])\n",
    "\n",
    "    def backtrack(path_result,result, next_nodes,seen):\n",
    "\n",
    "        for node in next_nodes:\n",
    "            seen.union(set(d[node]['not_allow']))\n",
    "            seen |= set(d[node]['not_allow'])\n",
    "\n",
    "            result.append(path_result+[node])\n",
    "\n",
    "            next_nodes = [x for x in d[node]['allow'] if x not in seen]\n",
    "\n",
    "            if next_nodes:\n",
    "                backtrack(path_result+[node],result,next_nodes,seen)\n",
    "                    \n",
    "    result = []\n",
    "    for _from, _to in d.items():\n",
    "        res = [_from]\n",
    "        result.append(res)\n",
    "        backtrack(res,result,_to['allow'],set([k]+d[k]['not_allow']))\n",
    "        \n",
    "    return len(result)\n",
    "\n",
    "find_count2(8,[1,2,3,5,7,3,2],[2,3,1,1,5,9,9],[3,2,5,7,5,6,9,1],4,[1,2,3,5,7,9])"
   ]
  },
  {
   "cell_type": "code",
   "execution_count": null,
   "metadata": {},
   "outputs": [],
   "source": []
  },
  {
   "cell_type": "code",
   "execution_count": 2,
   "metadata": {},
   "outputs": [
    {
     "data": {
      "text/plain": [
       "12"
      ]
     },
     "execution_count": 2,
     "metadata": {},
     "output_type": "execute_result"
    }
   ],
   "source": [
    "def find_count1(graph_nodes,graph_from,graph_to,graph_weight,minDistance,company):\n",
    "    \n",
    "    # initialize a dictionary that stores all the nodes that x can arrive which is greater than x\n",
    "    # for ex, (know from graph_from and graph_to)\n",
    "    # 4 and 3 have a edge =5, \n",
    "    # 3 and 2 have an edge =5, \n",
    "    # 3 and 9 have an edge =5\n",
    "    # then 比较 two nodes of the edge的大小, so the node (named 1) has an edge to the node -> (named2)\n",
    "    # d = {2:[3],3:[4,9]} \"record in allow\"    \n",
    "    # 从dictionary的角度看就是k永远比v里的所有的值都要小，目的是avoid redundancy\n",
    "    \n",
    "    # if knowing that 1 and 4 have an edge =2 which is smaller than 4\n",
    "    # then 1 can not traverse to 4\n",
    "    # d = {1:[4]} \"record in not allow\"\n",
    "    \n",
    "    # initialize dictionary structure\n",
    "    d = {}\n",
    "    for i in range(len(graph_from)):\n",
    "        d[graph_from[i]]={\"allow\":[],\"not_allow\":[]}\n",
    "        d[graph_to[i]]={\"allow\":[],\"not_allow\":[]}\n",
    "        \n",
    "    # 把所有路径存进去，allow和not allow\n",
    "    for i in range(len(graph_from)):\n",
    "        x,y = sorted([graph_from[i],graph_to[i]]) #确保k比v小\n",
    "        if graph_weight[i] > minDistance:\n",
    "            d[x]['allow'].append(y)\n",
    "        else:\n",
    "            d[x]['not_allow'].append(y)\n",
    "    \n",
    "    # 因为路径信息是乱序的，确保所有v都是sorted这样recursion的时候也是顺序recurse不会漏\n",
    "    for k,v in d.items():\n",
    "        d[k]['allow']=sorted(v['allow'])\n",
    "        d[k]['not_allow']=sorted(v['not_allow'])\n",
    "    \n",
    "    \n",
    "    # res是当前的答案路径\n",
    "    # result是最后要return的所有答案路径的list\n",
    "    # v_list就是这一轮要检查能不能加到当前答案路径的nodes\n",
    "    # seen是因为当前答案路径里去过的node周边很近的node，保证答案路径里所有的node距离都大于minDistance\n",
    "    def backtrack(res,result,v_list,seen):\n",
    "        # v_list是所有现在的node能到的node（比现在的node的名字的数字大）\n",
    "        # 遍历所有能到的node，在当前res是n个node时，存res是n+1个node的答案\n",
    "        for v in v_list:\n",
    "            #add to seen and add not allowed to seen\n",
    "            seen.union(set(d[v]['not_allow']))\n",
    "\n",
    "            # 因为顺序决定了是从小到大，就不需要之前的sorted(res+[v])了\n",
    "            result.append(res+[v])\n",
    "\n",
    "            # 这个node加了以后可以看它还能到哪个node，继续遍历，并且确保它要去的node不会是之前的node不能到的node(因为太近)\n",
    "            # 比如1到9距离是3，1到2距离是10，而2到9距离是10，【1，2】以后哪怕2可以到9，我们也不能让2到9因为2离1太近了\n",
    "            new = [x for x in d[v]['allow'] if x not in seen]\n",
    "\n",
    "            # 如果可以继续遍历,答案路径是n+1个nodes时，找答案路径是n+2个的\n",
    "            if new:\n",
    "                backtrack(res+[v],result,new,seen)\n",
    "                    \n",
    "    result = []\n",
    "    for k,v in d.items():\n",
    "        # 所有1个的\n",
    "        res = [k]\n",
    "        result.append(res)\n",
    "        \n",
    "        #接下来找这个能连下一个的，从我们的dictionary知道只会从1找比1大的，不会从2找回1。因为d[2]不会有1.所以不会重复\n",
    "        backtrack(res,result,v['allow'],set([k]+d[k]['not_allow']))\n",
    "        \n",
    "    return len(result)\n",
    "find_count1(8,[1,2,3,5,7,3,2,7],[2,3,1,1,2,5,9,9],[3,2,5,7,5,6,9,1],4,[1,2,3,5,7,9])"
   ]
  },
  {
   "cell_type": "code",
   "execution_count": 4,
   "metadata": {},
   "outputs": [
    {
     "data": {
      "text/plain": [
       "10"
      ]
     },
     "execution_count": 4,
     "metadata": {},
     "output_type": "execute_result"
    }
   ],
   "source": [
    "find_count1(8,[1,2,3,5,7,3],[2,3,1,1,2,5],[3,2,5,7,5,6],4,[1,2,3,5,7])"
   ]
  },
  {
   "cell_type": "code",
   "execution_count": 5,
   "metadata": {},
   "outputs": [
    {
     "data": {
      "text/plain": [
       "10"
      ]
     },
     "execution_count": 5,
     "metadata": {},
     "output_type": "execute_result"
    }
   ],
   "source": [
    "find_count2(8,[1,2,3,5,7,3],[2,3,1,1,2,5],[3,2,5,7,5,6],4,[1,2,3,5,7])"
   ]
  },
  {
   "cell_type": "code",
   "execution_count": null,
   "metadata": {},
   "outputs": [],
   "source": []
  }
 ],
 "metadata": {
  "kernelspec": {
   "display_name": "Python 3",
   "language": "python",
   "name": "python3"
  },
  "language_info": {
   "codemirror_mode": {
    "name": "ipython",
    "version": 3
   },
   "file_extension": ".py",
   "mimetype": "text/x-python",
   "name": "python",
   "nbconvert_exporter": "python",
   "pygments_lexer": "ipython3",
   "version": "3.8.3"
  },
  "toc": {
   "base_numbering": 1,
   "nav_menu": {},
   "number_sections": true,
   "sideBar": true,
   "skip_h1_title": false,
   "title_cell": "Table of Contents",
   "title_sidebar": "Contents",
   "toc_cell": false,
   "toc_position": {},
   "toc_section_display": true,
   "toc_window_display": false
  }
 },
 "nbformat": 4,
 "nbformat_minor": 2
}
