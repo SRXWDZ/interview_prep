{
 "cells": [
  {
   "cell_type": "code",
   "execution_count": 37,
   "metadata": {
    "code_folding": []
   },
   "outputs": [],
   "source": [
    "class Graph:\n",
    "    def __init__(self, V):\n",
    "        self.V = V\n",
    "        self.graph = [[] for i in range(V)]\n",
    "\n",
    "    def add_edge(self, v, w):\n",
    "        v -= 1\n",
    "        w -= 1\n",
    "        self.graph[v].append(w)\n",
    "        self.graph[w].append(v)\n",
    "\n",
    "    def count(self, v, visited):\n",
    "        count = 1\n",
    "        visited[v] = True\n",
    "        i = 0\n",
    "        while i != len(self.graph[v]):\n",
    "            if (not visited[self.graph[v][i]]):\n",
    "                count += self.count(self.graph[v][i], visited)\n",
    "            i += 1\n",
    "        return count\n",
    "\n",
    "    def count_groups(self):\n",
    "\n",
    "        visited = [0] * self.V\n",
    "        existing_groups = 0\n",
    "#         new_groups = 1\n",
    "        for i in range(self.V):\n",
    "\n",
    "            # If not in any group.\n",
    "            if not visited[i]: \n",
    "                existing_groups += 1\n",
    "                self.count(i, visited)\n",
    "#                 new_groups = (new_groups * self.count(i, visited))\n",
    "\n",
    "        return existing_groups\n",
    "\n",
    "def minOperations(comp_nodes, comp_from, comp_to):\n",
    "    if comp_nodes> len(comp_from) + 1:\n",
    "        return -1\n",
    "\n",
    "    g = Graph(comp_nodes)\n",
    "    for i in range(len(comp_from)):\n",
    "        g.add_edge(comp_from[i], comp_to[i])\n",
    "    \n",
    "    return g.count_groups() - 1"
   ]
  },
  {
   "cell_type": "code",
   "execution_count": 38,
   "metadata": {},
   "outputs": [],
   "source": [
    "def minOperations_unionFind(comp_nodes, comp_from, comp_to):\n",
    "    if comp_nodes> len(comp_from) + 1:\n",
    "        return -1\n",
    "    data=list(range(comp_nodes+1))\n",
    "    cnt=comp_nodes-1\n",
    "    \n",
    "    def find(x):\n",
    "        if x!=data[x]:\n",
    "            data[x]=find(data[x])\n",
    "        return data[x]\n",
    "    def union(x,y,cnt):\n",
    "        left=find(x)\n",
    "        right=find(y)\n",
    "        if left!=right:\n",
    "            data[left]=right\n",
    "            cnt-=1\n",
    "\n",
    "        return cnt\n",
    "    \n",
    "    for x,y in list(zip(comp_from, comp_to)):\n",
    "        cnt=union(x,y,cnt)\n",
    "    \n",
    "    return cnt"
   ]
  },
  {
   "cell_type": "code",
   "execution_count": 39,
   "metadata": {},
   "outputs": [
    {
     "name": "stdout",
     "output_type": "stream",
     "text": [
      "0\n",
      "1\n",
      "1\n",
      "2\n",
      "2\n"
     ]
    }
   ],
   "source": [
    "print(minOperations_unionFind(4, [1,2,3,1],[2,3,1,4]))\n",
    "print(minOperations_unionFind(4, [1,1,3],[2,3,2])) # need 1->4\n",
    "print(minOperations_unionFind(6, [1,1,3,4,5,6], [2,3,2,5,6,4])) # need 3->4\n",
    "print(minOperations_unionFind(6, [1,1,3,4,5,6], [2,3,2,6,5,4])) # need 3->4,4->5\n",
    "print(minOperations_unionFind(6, [5,3,3,4,5,6], [2,3,2,6,5,4])) # need 1->2,3->4,4->5"
   ]
  },
  {
   "cell_type": "code",
   "execution_count": 40,
   "metadata": {},
   "outputs": [
    {
     "name": "stdout",
     "output_type": "stream",
     "text": [
      "0\n",
      "1\n",
      "1\n",
      "2\n",
      "2\n"
     ]
    }
   ],
   "source": [
    "print(minOperations(4, [1,2,3,1],[2,3,1,4]))\n",
    "print(minOperations(4, [1,1,3],[2,3,2])) # need 1->4\n",
    "print(minOperations(6, [1,1,3,4,5,6], [2,3,2,5,6,4])) # need 3->4\n",
    "print(minOperations(6, [1,1,3,4,5,6], [2,3,2,6,5,4])) # need 3->4,4->5\n",
    "print(minOperations(6, [5,3,3,4,5,6], [2,3,2,6,5,4])) # need 1->2,3->4,4->5"
   ]
  },
  {
   "cell_type": "code",
   "execution_count": 83,
   "metadata": {},
   "outputs": [],
   "source": [
    "def max_length(s, k):\n",
    "    # These two mark the start and end of the subarray that `current` used to be.\n",
    "    subarray_start = 0\n",
    "    subarray_end = 0\n",
    "\n",
    "    subarray_sum = 0\n",
    "    max_len = -1 # returns -1 if there is no subsequence that adds up to k.\n",
    "    for i in s:\n",
    "        subarray_sum += i\n",
    "        subarray_end += 1\n",
    "        while subarray_sum > k: # Shrink the array from the left, until the sum is <= k.\n",
    "            subarray_sum -= s[subarray_start]\n",
    "            subarray_start += 1\n",
    "\n",
    "        # After the previous while loop, subarray_sum is guaranteed to be \n",
    "        # smaller than or equal to k.\n",
    "        max_len = max(max_len, subarray_end - subarray_start)\n",
    "\n",
    "    return max_len"
   ]
  },
  {
   "cell_type": "code",
   "execution_count": 84,
   "metadata": {},
   "outputs": [
    {
     "data": {
      "text/plain": [
       "2"
      ]
     },
     "execution_count": 84,
     "metadata": {},
     "output_type": "execute_result"
    }
   ],
   "source": [
    "max_length([3,3,6,6],6)"
   ]
  },
  {
   "cell_type": "code",
   "execution_count": 100,
   "metadata": {},
   "outputs": [],
   "source": [
    "from collections import defaultdict\n",
    "\n",
    "\n",
    "def shortestSubstring(givenString):\n",
    "    str_len = len(givenString)\n",
    "\n",
    "    no_of_unique_char = len(set(givenString))\n",
    "    cnt, start_pos,  min_len = 0, 0,  float('inf')\n",
    "    \n",
    "    curr_count = defaultdict(int)\n",
    "    for i in range(str_len):\n",
    "        curr_count[givenString[i]] += 1\n",
    "\n",
    "        if curr_count[givenString[i]] == 1:\n",
    "            cnt += 1\n",
    "\n",
    "        if cnt == no_of_unique_char:\n",
    "            while curr_count[givenString[start_pos]] > 1:\n",
    "                curr_count[givenString[start_pos]] -= 1\n",
    "                start_pos += 1\n",
    "\n",
    "            len_window = i - start_pos + 1\n",
    "            if min_len > len_window:\n",
    "                min_len = len_window\n",
    "    return min_len"
   ]
  },
  {
   "cell_type": "code",
   "execution_count": 101,
   "metadata": {},
   "outputs": [
    {
     "name": "stdout",
     "output_type": "stream",
     "text": [
      "0\n",
      "1\n",
      "2\n",
      "3\n",
      "4\n",
      "defaultdict(<class 'int'>, {'d': 1, 'a': 1, 'b': 2, 'c': 1})\n",
      "5\n",
      "defaultdict(<class 'int'>, {'d': 1, 'a': 2, 'b': 2, 'c': 1})\n",
      "6\n",
      "defaultdict(<class 'int'>, {'d': 1, 'a': 2, 'b': 3, 'c': 1})\n",
      "7\n",
      "defaultdict(<class 'int'>, {'d': 1, 'a': 2, 'b': 3, 'c': 2})\n",
      "8\n",
      "defaultdict(<class 'int'>, {'d': 2, 'a': 2, 'b': 3, 'c': 2})\n"
     ]
    },
    {
     "data": {
      "text/plain": [
       "4"
      ]
     },
     "execution_count": 101,
     "metadata": {},
     "output_type": "execute_result"
    }
   ],
   "source": [
    "shortestSubstring('dabbcabcd')"
   ]
  },
  {
   "cell_type": "code",
   "execution_count": null,
   "metadata": {},
   "outputs": [],
   "source": []
  }
 ],
 "metadata": {
  "kernelspec": {
   "display_name": "Python 3",
   "language": "python",
   "name": "python3"
  },
  "language_info": {
   "codemirror_mode": {
    "name": "ipython",
    "version": 3
   },
   "file_extension": ".py",
   "mimetype": "text/x-python",
   "name": "python",
   "nbconvert_exporter": "python",
   "pygments_lexer": "ipython3",
   "version": "3.8.3"
  },
  "toc": {
   "base_numbering": 1,
   "nav_menu": {},
   "number_sections": true,
   "sideBar": true,
   "skip_h1_title": false,
   "title_cell": "Table of Contents",
   "title_sidebar": "Contents",
   "toc_cell": false,
   "toc_position": {},
   "toc_section_display": true,
   "toc_window_display": false
  }
 },
 "nbformat": 4,
 "nbformat_minor": 4
}
