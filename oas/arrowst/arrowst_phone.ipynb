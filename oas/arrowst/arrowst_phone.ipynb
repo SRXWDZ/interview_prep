{
 "cells": [
  {
   "cell_type": "code",
   "execution_count": 51,
   "metadata": {},
   "outputs": [
    {
     "name": "stdout",
     "output_type": "stream",
     "text": [
      "3\n"
     ]
    }
   ],
   "source": [
    "def f(arrival, departure):\n",
    "    visited = set()\n",
    "    f.res = 0\n",
    "    def dfs(idx, path):\n",
    "        f.res = max(f.res, path)\n",
    "        for i in range(idx, len(arrival)):\n",
    "            for j in range(arrival[i], departure[i] + 1):\n",
    "                if not j in visited:\n",
    "                    visited.add(j)\n",
    "                    dfs(idx + 1, path + 1)\n",
    "                    visited.remove(j)\n",
    "    dfs(0, 0)\n",
    "    return f.res\n",
    "\n",
    "print(f([2,2,2,3], [2,3,4,4]))"
   ]
  },
  {
   "cell_type": "code",
   "execution_count": 52,
   "metadata": {},
   "outputs": [],
   "source": [
    "from collections import defaultdict\n",
    "\n",
    "def find_substring(string):\n",
    "    n = len(string)\n",
    "    dist_count = len(set([x for x in string]))\n",
    "    curr_count = defaultdict(int)\n",
    "    count = start = 0\n",
    "    min_len = n\n",
    "    for j in range(n):\n",
    "        curr_count[string[j]]+=1\n",
    "        if curr_count[string[j]] == 1:\n",
    "            count+=1\n",
    "        if count == dist_count:\n",
    "            while curr_count[string[start]] >1:\n",
    "                if curr_count[string[start]]>1:\n",
    "                    curr_count[string[start]] -= 1\n",
    "                start += 1\n",
    "            len_window = j - start+1\n",
    "            if min_len > len_window:\n",
    "                min_len = len_window\n",
    "                start_index = start\n",
    "    return string[start_index:start_index+min_len]\n",
    "assert find_substring(\"aabcbcdbca\") == \"dbca\"  # O(N) O(N)"
   ]
  },
  {
   "cell_type": "code",
   "execution_count": 53,
   "metadata": {},
   "outputs": [],
   "source": [
    "import numpy as np\n",
    "import statsmodels.api as sm"
   ]
  },
  {
   "cell_type": "code",
   "execution_count": 54,
   "metadata": {},
   "outputs": [],
   "source": [
    "from sklearn.linear_model import LinearRegression"
   ]
  },
  {
   "cell_type": "code",
   "execution_count": 55,
   "metadata": {},
   "outputs": [],
   "source": [
    "x = np.random.normal(0, 1, 100).reshape(-1,1)\n",
    "y = 2*x+1\n",
    "x = sm.add_constant(x)\n"
   ]
  },
  {
   "cell_type": "code",
   "execution_count": 56,
   "metadata": {},
   "outputs": [],
   "source": [
    "model = sm.OLS(y,x)\n",
    "results = model.fit()"
   ]
  },
  {
   "cell_type": "code",
   "execution_count": 57,
   "metadata": {},
   "outputs": [
    {
     "data": {
      "text/html": [
       "<table class=\"simpletable\">\n",
       "<caption>OLS Regression Results</caption>\n",
       "<tr>\n",
       "  <th>Dep. Variable:</th>            <td>y</td>        <th>  R-squared:         </th> <td>   1.000</td> \n",
       "</tr>\n",
       "<tr>\n",
       "  <th>Model:</th>                   <td>OLS</td>       <th>  Adj. R-squared:    </th> <td>   1.000</td> \n",
       "</tr>\n",
       "<tr>\n",
       "  <th>Method:</th>             <td>Least Squares</td>  <th>  F-statistic:       </th> <td>1.948e+33</td>\n",
       "</tr>\n",
       "<tr>\n",
       "  <th>Date:</th>             <td>Wed, 30 Sep 2020</td> <th>  Prob (F-statistic):</th>  <td>  0.00</td>  \n",
       "</tr>\n",
       "<tr>\n",
       "  <th>Time:</th>                 <td>14:38:04</td>     <th>  Log-Likelihood:    </th> <td>  3388.4</td> \n",
       "</tr>\n",
       "<tr>\n",
       "  <th>No. Observations:</th>      <td>   100</td>      <th>  AIC:               </th> <td>  -6773.</td> \n",
       "</tr>\n",
       "<tr>\n",
       "  <th>Df Residuals:</th>          <td>    98</td>      <th>  BIC:               </th> <td>  -6768.</td> \n",
       "</tr>\n",
       "<tr>\n",
       "  <th>Df Model:</th>              <td>     1</td>      <th>                     </th>     <td> </td>    \n",
       "</tr>\n",
       "<tr>\n",
       "  <th>Covariance Type:</th>      <td>nonrobust</td>    <th>                     </th>     <td> </td>    \n",
       "</tr>\n",
       "</table>\n",
       "<table class=\"simpletable\">\n",
       "<tr>\n",
       "    <td></td>       <th>coef</th>     <th>std err</th>      <th>t</th>      <th>P>|t|</th>  <th>[0.025</th>    <th>0.975]</th>  \n",
       "</tr>\n",
       "<tr>\n",
       "  <th>const</th> <td>    1.0000</td> <td> 4.71e-17</td> <td> 2.12e+16</td> <td> 0.000</td> <td>    1.000</td> <td>    1.000</td>\n",
       "</tr>\n",
       "<tr>\n",
       "  <th>x1</th>    <td>    2.0000</td> <td> 4.53e-17</td> <td> 4.41e+16</td> <td> 0.000</td> <td>    2.000</td> <td>    2.000</td>\n",
       "</tr>\n",
       "</table>\n",
       "<table class=\"simpletable\">\n",
       "<tr>\n",
       "  <th>Omnibus:</th>       <td>16.972</td> <th>  Durbin-Watson:     </th> <td>   0.264</td>\n",
       "</tr>\n",
       "<tr>\n",
       "  <th>Prob(Omnibus):</th> <td> 0.000</td> <th>  Jarque-Bera (JB):  </th> <td>  71.518</td>\n",
       "</tr>\n",
       "<tr>\n",
       "  <th>Skew:</th>          <td> 0.223</td> <th>  Prob(JB):          </th> <td>2.95e-16</td>\n",
       "</tr>\n",
       "<tr>\n",
       "  <th>Kurtosis:</th>      <td> 7.119</td> <th>  Cond. No.          </th> <td>    1.06</td>\n",
       "</tr>\n",
       "</table><br/><br/>Warnings:<br/>[1] Standard Errors assume that the covariance matrix of the errors is correctly specified."
      ],
      "text/plain": [
       "<class 'statsmodels.iolib.summary.Summary'>\n",
       "\"\"\"\n",
       "                            OLS Regression Results                            \n",
       "==============================================================================\n",
       "Dep. Variable:                      y   R-squared:                       1.000\n",
       "Model:                            OLS   Adj. R-squared:                  1.000\n",
       "Method:                 Least Squares   F-statistic:                 1.948e+33\n",
       "Date:                Wed, 30 Sep 2020   Prob (F-statistic):               0.00\n",
       "Time:                        14:38:04   Log-Likelihood:                 3388.4\n",
       "No. Observations:                 100   AIC:                            -6773.\n",
       "Df Residuals:                      98   BIC:                            -6768.\n",
       "Df Model:                           1                                         \n",
       "Covariance Type:            nonrobust                                         \n",
       "==============================================================================\n",
       "                 coef    std err          t      P>|t|      [0.025      0.975]\n",
       "------------------------------------------------------------------------------\n",
       "const          1.0000   4.71e-17   2.12e+16      0.000       1.000       1.000\n",
       "x1             2.0000   4.53e-17   4.41e+16      0.000       2.000       2.000\n",
       "==============================================================================\n",
       "Omnibus:                       16.972   Durbin-Watson:                   0.264\n",
       "Prob(Omnibus):                  0.000   Jarque-Bera (JB):               71.518\n",
       "Skew:                           0.223   Prob(JB):                     2.95e-16\n",
       "Kurtosis:                       7.119   Cond. No.                         1.06\n",
       "==============================================================================\n",
       "\n",
       "Warnings:\n",
       "[1] Standard Errors assume that the covariance matrix of the errors is correctly specified.\n",
       "\"\"\""
      ]
     },
     "execution_count": 57,
     "metadata": {},
     "output_type": "execute_result"
    }
   ],
   "source": [
    "results.summary()"
   ]
  },
  {
   "cell_type": "code",
   "execution_count": 60,
   "metadata": {},
   "outputs": [
    {
     "data": {
      "text/html": [
       "<table class=\"simpletable\">\n",
       "<caption>OLS Regression Results</caption>\n",
       "<tr>\n",
       "  <th>Dep. Variable:</th>            <td>y</td>        <th>  R-squared:         </th> <td>   0.991</td> \n",
       "</tr>\n",
       "<tr>\n",
       "  <th>Model:</th>                   <td>OLS</td>       <th>  Adj. R-squared:    </th> <td>   0.991</td> \n",
       "</tr>\n",
       "<tr>\n",
       "  <th>Method:</th>             <td>Least Squares</td>  <th>  F-statistic:       </th> <td>1.061e+04</td>\n",
       "</tr>\n",
       "<tr>\n",
       "  <th>Date:</th>             <td>Wed, 30 Sep 2020</td> <th>  Prob (F-statistic):</th> <td>1.04e-101</td>\n",
       "</tr>\n",
       "<tr>\n",
       "  <th>Time:</th>                 <td>14:38:49</td>     <th>  Log-Likelihood:    </th> <td>  23.344</td> \n",
       "</tr>\n",
       "<tr>\n",
       "  <th>No. Observations:</th>      <td>   100</td>      <th>  AIC:               </th> <td>  -42.69</td> \n",
       "</tr>\n",
       "<tr>\n",
       "  <th>Df Residuals:</th>          <td>    98</td>      <th>  BIC:               </th> <td>  -37.48</td> \n",
       "</tr>\n",
       "<tr>\n",
       "  <th>Df Model:</th>              <td>     1</td>      <th>                     </th>     <td> </td>    \n",
       "</tr>\n",
       "<tr>\n",
       "  <th>Covariance Type:</th>      <td>nonrobust</td>    <th>                     </th>     <td> </td>    \n",
       "</tr>\n",
       "</table>\n",
       "<table class=\"simpletable\">\n",
       "<tr>\n",
       "    <td></td>       <th>coef</th>     <th>std err</th>      <th>t</th>      <th>P>|t|</th>  <th>[0.025</th>    <th>0.975]</th>  \n",
       "</tr>\n",
       "<tr>\n",
       "  <th>const</th> <td>    0.9677</td> <td>    0.019</td> <td>   49.950</td> <td> 0.000</td> <td>    0.929</td> <td>    1.006</td>\n",
       "</tr>\n",
       "<tr>\n",
       "  <th>x1</th>    <td>    1.9948</td> <td>    0.019</td> <td>  103.017</td> <td> 0.000</td> <td>    1.956</td> <td>    2.033</td>\n",
       "</tr>\n",
       "</table>\n",
       "<table class=\"simpletable\">\n",
       "<tr>\n",
       "  <th>Omnibus:</th>       <td> 0.233</td> <th>  Durbin-Watson:     </th> <td>   1.806</td>\n",
       "</tr>\n",
       "<tr>\n",
       "  <th>Prob(Omnibus):</th> <td> 0.890</td> <th>  Jarque-Bera (JB):  </th> <td>   0.077</td>\n",
       "</tr>\n",
       "<tr>\n",
       "  <th>Skew:</th>          <td> 0.066</td> <th>  Prob(JB):          </th> <td>   0.962</td>\n",
       "</tr>\n",
       "<tr>\n",
       "  <th>Kurtosis:</th>      <td> 3.031</td> <th>  Cond. No.          </th> <td>    1.05</td>\n",
       "</tr>\n",
       "</table><br/><br/>Warnings:<br/>[1] Standard Errors assume that the covariance matrix of the errors is correctly specified."
      ],
      "text/plain": [
       "<class 'statsmodels.iolib.summary.Summary'>\n",
       "\"\"\"\n",
       "                            OLS Regression Results                            \n",
       "==============================================================================\n",
       "Dep. Variable:                      y   R-squared:                       0.991\n",
       "Model:                            OLS   Adj. R-squared:                  0.991\n",
       "Method:                 Least Squares   F-statistic:                 1.061e+04\n",
       "Date:                Wed, 30 Sep 2020   Prob (F-statistic):          1.04e-101\n",
       "Time:                        14:38:49   Log-Likelihood:                 23.344\n",
       "No. Observations:                 100   AIC:                            -42.69\n",
       "Df Residuals:                      98   BIC:                            -37.48\n",
       "Df Model:                           1                                         \n",
       "Covariance Type:            nonrobust                                         \n",
       "==============================================================================\n",
       "                 coef    std err          t      P>|t|      [0.025      0.975]\n",
       "------------------------------------------------------------------------------\n",
       "const          0.9677      0.019     49.950      0.000       0.929       1.006\n",
       "x1             1.9948      0.019    103.017      0.000       1.956       2.033\n",
       "==============================================================================\n",
       "Omnibus:                        0.233   Durbin-Watson:                   1.806\n",
       "Prob(Omnibus):                  0.890   Jarque-Bera (JB):                0.077\n",
       "Skew:                           0.066   Prob(JB):                        0.962\n",
       "Kurtosis:                       3.031   Cond. No.                         1.05\n",
       "==============================================================================\n",
       "\n",
       "Warnings:\n",
       "[1] Standard Errors assume that the covariance matrix of the errors is correctly specified.\n",
       "\"\"\""
      ]
     },
     "execution_count": 60,
     "metadata": {},
     "output_type": "execute_result"
    }
   ],
   "source": [
    "x = np.random.normal(0, 1, 100).reshape(-1,1)\n",
    "y = 2*x+1\n",
    "x += np.random.normal(0, 0.1, 100).reshape(-1,1)\n",
    "x = sm.add_constant(x)\n",
    "model = sm.OLS(y,x)\n",
    "results = model.fit()\n",
    "results.summary()"
   ]
  },
  {
   "cell_type": "code",
   "execution_count": 61,
   "metadata": {},
   "outputs": [
    {
     "data": {
      "text/plain": [
       "array([0.96771913, 1.99479591])"
      ]
     },
     "execution_count": 61,
     "metadata": {},
     "output_type": "execute_result"
    }
   ],
   "source": [
    "results.params"
   ]
  },
  {
   "cell_type": "code",
   "execution_count": null,
   "metadata": {},
   "outputs": [],
   "source": [
    "def minMeetingRooms(self, intervals: List[List[int]]) -> int:\n",
    "    used_rooms = 0\n",
    "    start_timings = sorted([i[0] for i in intervals])\n",
    "    end_timings = sorted(i[1] for i in intervals)\n",
    "    L = len(intervals)\n",
    "\n",
    "    end_pointer = 0\n",
    "    start_pointer = 0\n",
    "\n",
    "    while start_pointer < L:\n",
    "        if start_timings[start_pointer]>=end_timings[end_pointer]:\n",
    "            used_rooms-=1\n",
    "            end_pointer+=1\n",
    "\n",
    "        used_rooms+=1\n",
    "        start_pointer += 1\n",
    "    return used_rooms"
   ]
  },
  {
   "cell_type": "code",
   "execution_count": 124,
   "metadata": {},
   "outputs": [],
   "source": [
    "def jobScheduling(self, startTime, endTime, profit):\n",
    "    jobs = sorted(zip(startTime, endTime, profit), key=lambda v: v[1])\n",
    "    dp = [[0, 0]]\n",
    "    for s, e, p in jobs:\n",
    "        i = bisect.bisect(dp, [s + 1]) - 1\n",
    "        if dp[i][1] + p > dp[-1][1]:\n",
    "            dp.append([e, dp[i][1] + p])\n",
    "    return dp[-1][1]"
   ]
  },
  {
   "cell_type": "code",
   "execution_count": 1,
   "metadata": {},
   "outputs": [],
   "source": [
    "import concurrent.futures\n",
    "\n",
    "\n",
    "counter = 0\n",
    "\n",
    "\n",
    "def increment_counter(fake_value):\n",
    "    global counter\n",
    "    for _ in range(100):\n",
    "        counter += 1\n",
    "\n",
    "\n",
    "if __name__ == \"__main__\":\n",
    "    fake_data = [x for x in range(5000)]\n",
    "    counter = 0\n",
    "    with concurrent.futures.ThreadPoolExecutor(max_workers=5000) as executor:\n",
    "        executor.map(increment_counter, fake_data)"
   ]
  },
  {
   "cell_type": "code",
   "execution_count": 2,
   "metadata": {},
   "outputs": [
    {
     "data": {
      "text/plain": [
       "500000"
      ]
     },
     "execution_count": 2,
     "metadata": {},
     "output_type": "execute_result"
    }
   ],
   "source": [
    "counter"
   ]
  },
  {
   "cell_type": "code",
   "execution_count": null,
   "metadata": {},
   "outputs": [],
   "source": []
  }
 ],
 "metadata": {
  "kernelspec": {
   "display_name": "Python 3",
   "language": "python",
   "name": "python3"
  },
  "language_info": {
   "codemirror_mode": {
    "name": "ipython",
    "version": 3
   },
   "file_extension": ".py",
   "mimetype": "text/x-python",
   "name": "python",
   "nbconvert_exporter": "python",
   "pygments_lexer": "ipython3",
   "version": "3.8.3"
  },
  "toc": {
   "base_numbering": 1,
   "nav_menu": {},
   "number_sections": true,
   "sideBar": true,
   "skip_h1_title": false,
   "title_cell": "Table of Contents",
   "title_sidebar": "Contents",
   "toc_cell": false,
   "toc_position": {},
   "toc_section_display": true,
   "toc_window_display": false
  }
 },
 "nbformat": 4,
 "nbformat_minor": 4
}
