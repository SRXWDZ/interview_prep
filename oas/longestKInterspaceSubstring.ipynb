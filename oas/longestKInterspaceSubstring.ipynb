{
 "cells": [
  {
   "cell_type": "code",
   "execution_count": 9,
   "metadata": {},
   "outputs": [],
   "source": [
    "def longestKInterspaceSubstring(word, k):\n",
    "    max_len=-1\n",
    "    curr_len=0\n",
    "    res=''\n",
    "    result=''\n",
    "    last_append=False\n",
    "    for i in range(len(word)-1):\n",
    "        if abs(ord(word[i])-ord(word[i+1]))<=k:\n",
    "            if not last_append:\n",
    "                res+=word[i]\n",
    "            res+=word[i+1]\n",
    "            curr_len+=1\n",
    "            if curr_len>max_len:\n",
    "                max_len=curr_len\n",
    "                result=res\n",
    "            last_append=True\n",
    "        else:\n",
    "            last_append=False\n",
    "            curr_len=0\n",
    "            res=''\n",
    "    return result"
   ]
  },
  {
   "cell_type": "code",
   "execution_count": 10,
   "metadata": {},
   "outputs": [],
   "source": [
    "test='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'"
   ]
  },
  {
   "cell_type": "code",
   "execution_count": 11,
   "metadata": {},
   "outputs": [
    {
     "data": {
      "text/plain": [
       "'pllqllqliea'"
      ]
     },
     "execution_count": 11,
     "metadata": {},
     "output_type": "execute_result"
    }
   ],
   "source": [
    "longestKInterspaceSubstring(test,5)"
   ]
  },
  {
   "cell_type": "code",
   "execution_count": null,
   "metadata": {},
   "outputs": [],
   "source": []
  }
 ],
 "metadata": {
  "kernelspec": {
   "display_name": "Python 3",
   "language": "python",
   "name": "python3"
  },
  "language_info": {
   "codemirror_mode": {
    "name": "ipython",
    "version": 3
   },
   "file_extension": ".py",
   "mimetype": "text/x-python",
   "name": "python",
   "nbconvert_exporter": "python",
   "pygments_lexer": "ipython3",
   "version": "3.8.3"
  },
  "toc": {
   "base_numbering": 1,
   "nav_menu": {},
   "number_sections": true,
   "sideBar": true,
   "skip_h1_title": false,
   "title_cell": "Table of Contents",
   "title_sidebar": "Contents",
   "toc_cell": false,
   "toc_position": {},
   "toc_section_display": true,
   "toc_window_display": false
  }
 },
 "nbformat": 4,
 "nbformat_minor": 4
}
