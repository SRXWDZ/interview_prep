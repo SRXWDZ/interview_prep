{
 "cells": [
  {
   "cell_type": "code",
   "execution_count": 54,
   "metadata": {},
   "outputs": [],
   "source": [
    "import numpy as np\n",
    "grid = np.random.randint(1, size=(2000,2000),high=500)\n"
   ]
  },
  {
   "cell_type": "code",
   "execution_count": 55,
   "metadata": {},
   "outputs": [
    {
     "name": "stdout",
     "output_type": "stream",
     "text": [
      "Wall time: 37 s\n"
     ]
    },
    {
     "data": {
      "text/plain": [
       "0"
      ]
     },
     "execution_count": 55,
     "metadata": {},
     "output_type": "execute_result"
    }
   ],
   "source": [
    "%%time\n",
    "def largest_subgrid1(grid, max_sum):\n",
    "\n",
    "    n = len(grid)\n",
    "    dp = [[0]*(n+1) for _ in range(n+1)]\n",
    "    for i in range(1, n+1):\n",
    "        for j in range(1, n+1):\n",
    "            dp[i][j] = grid[i-1][j-1] + dp[i-1][j] + dp[i][j-1] - dp[i-1][j-1]\n",
    "\n",
    "    def maxsum_region(k):\n",
    "        total = 0\n",
    "        for i in range(n - k + 1):\n",
    "            for j in range(n - k + 1):\n",
    "                gross_sum = dp[i + k][j + k] #sum_od\n",
    "                sum_ob = dp[i][j + k]\n",
    "                sum_oc = dp[i + k][j]\n",
    "                sum_oa = dp[i][j]\n",
    "                net_sum = gross_sum - sum_ob - sum_oc + sum_oa\n",
    "                total = max(total, net_sum)\n",
    "        return total\n",
    "\n",
    "    left, right = 0, n\n",
    "    while left <= right:\n",
    "        mid = left + (right - left)//2\n",
    "        cur_maxsum = maxsum_region(mid)\n",
    "        if mid == 0 or mid == n or cur_maxsum <= max_sum < maxsum_region(mid + 1):\n",
    "            return mid \n",
    "        elif max_sum > cur_maxsum:\n",
    "            left = mid + 1\n",
    "        else:\n",
    "            right = mid - 1\n",
    "            \n",
    "largest_subgrid1(grid, 20)"
   ]
  },
  {
   "cell_type": "code",
   "execution_count": 56,
   "metadata": {
    "scrolled": true
   },
   "outputs": [
    {
     "name": "stdout",
     "output_type": "stream",
     "text": [
      "Wall time: 8.83 s\n"
     ]
    },
    {
     "data": {
      "text/plain": [
       "0"
      ]
     },
     "execution_count": 56,
     "metadata": {},
     "output_type": "execute_result"
    }
   ],
   "source": [
    "%%time\n",
    "def largest_subgrid2(grid, max_sum):\n",
    "\n",
    "    n = len(grid)\n",
    "    dp = [[0]*(n+1) for _ in range(n+1)]\n",
    "    for i in range(1, n+1):\n",
    "        for j in range(1, n+1):\n",
    "            dp[i][j] = grid[i-1][j-1] + dp[i-1][j] + dp[i][j-1] - dp[i-1][j-1]\n",
    "\n",
    "    def maxsum_region(k):\n",
    "        total = 0\n",
    "        for i in range(n - k + 1):\n",
    "            for j in range(n - k + 1):\n",
    "                gross_sum = dp[i + k][j + k] #sum_od\n",
    "                sum_ob = dp[i][j + k]\n",
    "                sum_oc = dp[i + k][j]\n",
    "                sum_oa = dp[i][j]\n",
    "                net_sum = gross_sum - sum_ob - sum_oc + sum_oa\n",
    "                if net_sum > max_sum:\n",
    "                    return net_sum\n",
    "                total = max(total, net_sum)\n",
    "        return total\n",
    "\n",
    "    left, right = 0, n\n",
    "    while left <= right:\n",
    "        mid = left + (right - left)//2\n",
    "        cur_maxsum = maxsum_region(mid)\n",
    "        if mid == 0 or mid == n or cur_maxsum <= max_sum < maxsum_region(mid + 1):\n",
    "            return mid \n",
    "        elif max_sum > cur_maxsum:\n",
    "            left = mid + 1\n",
    "        else:\n",
    "            right = mid - 1\n",
    "            \n",
    "largest_subgrid2(grid, 20)"
   ]
  },
  {
   "cell_type": "code",
   "execution_count": null,
   "metadata": {},
   "outputs": [],
   "source": []
  },
  {
   "cell_type": "code",
   "execution_count": null,
   "metadata": {},
   "outputs": [],
   "source": []
  },
  {
   "cell_type": "code",
   "execution_count": null,
   "metadata": {},
   "outputs": [],
   "source": []
  }
 ],
 "metadata": {
  "kernelspec": {
   "display_name": "Python 3",
   "language": "python",
   "name": "python3"
  },
  "language_info": {
   "codemirror_mode": {
    "name": "ipython",
    "version": 3
   },
   "file_extension": ".py",
   "mimetype": "text/x-python",
   "name": "python",
   "nbconvert_exporter": "python",
   "pygments_lexer": "ipython3",
   "version": "3.8.3"
  },
  "toc": {
   "base_numbering": 1,
   "nav_menu": {},
   "number_sections": true,
   "sideBar": true,
   "skip_h1_title": false,
   "title_cell": "Table of Contents",
   "title_sidebar": "Contents",
   "toc_cell": false,
   "toc_position": {},
   "toc_section_display": true,
   "toc_window_display": false
  }
 },
 "nbformat": 4,
 "nbformat_minor": 4
}
