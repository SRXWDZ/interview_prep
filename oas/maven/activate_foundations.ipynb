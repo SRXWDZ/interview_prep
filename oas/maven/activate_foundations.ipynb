{
 "cells": [
  {
   "cell_type": "code",
   "execution_count": 21,
   "metadata": {},
   "outputs": [
    {
     "name": "stdout",
     "output_type": "stream",
     "text": [
      "[2, 0, 0, 0]\n",
      "[0, 3, 2, 3, 4]\n"
     ]
    },
    {
     "data": {
      "text/plain": [
       "2"
      ]
     },
     "execution_count": 21,
     "metadata": {},
     "output_type": "execute_result"
    }
   ],
   "source": [
    "def activateFountains(A):\n",
    "    n = len(A)\n",
    "    print(A)\n",
    "    aux = list(range(n + 1))\n",
    "    for i, x in enumerate(A, 1):\n",
    "        aux[max(i - x, 1)] = min(i + x, n)\n",
    "    print(aux)\n",
    "    \n",
    "    ans, l, r = 0, 1, aux[1]\n",
    "    while r <= n:\n",
    "        new_r, ans = r, ans + 1\n",
    "        l = 0\n",
    "        for i in range(l,r+1):\n",
    "            new_r = max(new_r, aux[i])\n",
    "            l+=1\n",
    "        if r>=n:\n",
    "            break\n",
    "        r = max(new_r, aux[l])\n",
    "    return ans\n",
    "activateFountains([2,0,0,0])"
   ]
  },
  {
   "cell_type": "code",
   "execution_count": null,
   "metadata": {},
   "outputs": [],
   "source": []
  },
  {
   "cell_type": "code",
   "execution_count": null,
   "metadata": {},
   "outputs": [],
   "source": []
  },
  {
   "cell_type": "code",
   "execution_count": null,
   "metadata": {},
   "outputs": [],
   "source": []
  },
  {
   "cell_type": "code",
   "execution_count": null,
   "metadata": {},
   "outputs": [],
   "source": []
  }
 ],
 "metadata": {
  "kernelspec": {
   "display_name": "Python 3",
   "language": "python",
   "name": "python3"
  },
  "language_info": {
   "codemirror_mode": {
    "name": "ipython",
    "version": 3
   },
   "file_extension": ".py",
   "mimetype": "text/x-python",
   "name": "python",
   "nbconvert_exporter": "python",
   "pygments_lexer": "ipython3",
   "version": "3.8.3"
  },
  "toc": {
   "base_numbering": 1,
   "nav_menu": {},
   "number_sections": true,
   "sideBar": true,
   "skip_h1_title": false,
   "title_cell": "Table of Contents",
   "title_sidebar": "Contents",
   "toc_cell": false,
   "toc_position": {},
   "toc_section_display": true,
   "toc_window_display": false
  }
 },
 "nbformat": 4,
 "nbformat_minor": 2
}
