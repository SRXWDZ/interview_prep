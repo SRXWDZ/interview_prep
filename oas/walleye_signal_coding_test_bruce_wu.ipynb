{
  "nbformat": 4,
  "nbformat_minor": 0,
  "metadata": {
    "colab": {
      "name": "walleye-signal-coding-test-bruce-wu.ipynb",
      "provenance": [],
      "collapsed_sections": [],
      "toc_visible": true
    },
    "kernelspec": {
      "name": "python3",
      "display_name": "Python 3"
    }
  },
  "cells": [
    {
      "cell_type": "markdown",
      "metadata": {
        "id": "8EdNTkk-tck9"
      },
      "source": [
        "# Walleye Capital / Quantic - Pandas Coding Test\n",
        "\n",
        "Below, you will be asked to complete a series of coding tasks of ascending complexity. Please consider the following criteria:\n",
        "- You have thirty minutes to complete this test.\n",
        "- You will be judged primarily for the quality of code, not your knowledge of quant topics. High quality code is legible, standard-conformant, testable, well-documented, and of course correct.\n",
        "- You may import any additional libraries or look up definitions, APIs, etc. as you deem necessary.\n",
        "- Feel free to skip any questions you get stuck on, although some of them are necessary to do the later questions.\n",
        "- Completing as much of the test as you can in the allotted time is more valuable than a clever and optimally performant solution.\n",
        "- I am available as a resource for any questions as you go."
      ]
    },
    {
      "cell_type": "markdown",
      "metadata": {
        "id": "jL6ItEcQuf4a"
      },
      "source": [
        "# Introduction / Setup"
      ]
    },
    {
      "cell_type": "code",
      "metadata": {
        "id": "FRBLRF5oKEwi"
      },
      "source": [
        "import numpy as np\n",
        "import pandas as pd\n",
        "import seaborn as sns\n",
        "import statsmodels.api as sm\n",
        "import statsmodels.formula.api as smf\n",
        "\n",
        "from tqdm import tqdm\n",
        "\n",
        "# feel free to import anything else you might want."
      ],
      "execution_count": 304,
      "outputs": []
    },
    {
      "cell_type": "code",
      "metadata": {
        "id": "aArdV7f5KMPl"
      },
      "source": [
        "import requests, zipfile, io\n",
        "r = requests.get('https://github.com/wwang-walleye/walleye-coding-test-data/blob/main/ct-data.zip?raw=true') \n",
        "z = zipfile.ZipFile(io.BytesIO(r.content))\n",
        "z.extractall()\n",
        "\n",
        "univ = pd.read_csv(z.open('coding-test-u.csv'))\n",
        "brtn = pd.read_csv(z.open('coding-test-bd1.csv'))"
      ],
      "execution_count": 305,
      "outputs": []
    },
    {
      "cell_type": "markdown",
      "metadata": {
        "id": "uKEtJYYDtyY8"
      },
      "source": [
        "Below, please find two dataframes as follows:\n",
        "\n",
        "`univ` is a dataframe which specifies an investment universe over 2 years of contiguous trading days. The columns have the following definitions:\n",
        "1. `date` - hopefully self-explanatory.\n",
        "2. `secid` - a unique identifier for a given company (analogous to ticker).\n",
        "3. `gic2` - a discrete variable indicating sector membership. All secid with the same value for `gic2` are members of the same sector.\n",
        "\n",
        "The rows matching each `date` in `univ` indicate that a given `secid` is a constituent of the universe on that `date`."
      ]
    },
    {
      "cell_type": "code",
      "metadata": {
        "colab": {
          "base_uri": "https://localhost:8080/",
          "height": 204
        },
        "id": "cdQZX0YkcOCp",
        "outputId": "bb98e3d1-3b55-4ef5-a558-79cbb73d0642"
      },
      "source": [
        "univ.head()"
      ],
      "execution_count": 306,
      "outputs": [
        {
          "output_type": "execute_result",
          "data": {
            "text/html": [
              "<div>\n",
              "<style scoped>\n",
              "    .dataframe tbody tr th:only-of-type {\n",
              "        vertical-align: middle;\n",
              "    }\n",
              "\n",
              "    .dataframe tbody tr th {\n",
              "        vertical-align: top;\n",
              "    }\n",
              "\n",
              "    .dataframe thead th {\n",
              "        text-align: right;\n",
              "    }\n",
              "</style>\n",
              "<table border=\"1\" class=\"dataframe\">\n",
              "  <thead>\n",
              "    <tr style=\"text-align: right;\">\n",
              "      <th></th>\n",
              "      <th>date</th>\n",
              "      <th>secid</th>\n",
              "      <th>gic2</th>\n",
              "    </tr>\n",
              "  </thead>\n",
              "  <tbody>\n",
              "    <tr>\n",
              "      <th>0</th>\n",
              "      <td>2018-06-27</td>\n",
              "      <td>4717</td>\n",
              "      <td>20</td>\n",
              "    </tr>\n",
              "    <tr>\n",
              "      <th>1</th>\n",
              "      <td>2018-06-27</td>\n",
              "      <td>3905</td>\n",
              "      <td>40</td>\n",
              "    </tr>\n",
              "    <tr>\n",
              "      <th>2</th>\n",
              "      <td>2018-06-27</td>\n",
              "      <td>3107</td>\n",
              "      <td>20</td>\n",
              "    </tr>\n",
              "    <tr>\n",
              "      <th>3</th>\n",
              "      <td>2018-06-27</td>\n",
              "      <td>605</td>\n",
              "      <td>55</td>\n",
              "    </tr>\n",
              "    <tr>\n",
              "      <th>4</th>\n",
              "      <td>2018-06-27</td>\n",
              "      <td>4656</td>\n",
              "      <td>35</td>\n",
              "    </tr>\n",
              "  </tbody>\n",
              "</table>\n",
              "</div>"
            ],
            "text/plain": [
              "         date  secid  gic2\n",
              "0  2018-06-27   4717    20\n",
              "1  2018-06-27   3905    40\n",
              "2  2018-06-27   3107    20\n",
              "3  2018-06-27    605    55\n",
              "4  2018-06-27   4656    35"
            ]
          },
          "metadata": {
            "tags": []
          },
          "execution_count": 306
        }
      ]
    },
    {
      "cell_type": "markdown",
      "metadata": {
        "id": "fwVqqI80uBEK"
      },
      "source": [
        "`brtn` is a dataframe which specifies the trailing 1-day return of a given `secid` on a given `date`. Assume that the data in `brtn` is complete (i.e., it is not missing any trading days). Note that on a given date, any `secid` in the `brtn` dataframe may or may not be in the universe (i.e., the set of stocks in univ is a subset of the set of stocks in brtn on any given date)."
      ]
    },
    {
      "cell_type": "code",
      "metadata": {
        "colab": {
          "base_uri": "https://localhost:8080/",
          "height": 204
        },
        "id": "1tlYlY_3cb8v",
        "outputId": "bfe537ff-bc2b-41f9-b539-2437965100cd"
      },
      "source": [
        "brtn.head()"
      ],
      "execution_count": 307,
      "outputs": [
        {
          "output_type": "execute_result",
          "data": {
            "text/html": [
              "<div>\n",
              "<style scoped>\n",
              "    .dataframe tbody tr th:only-of-type {\n",
              "        vertical-align: middle;\n",
              "    }\n",
              "\n",
              "    .dataframe tbody tr th {\n",
              "        vertical-align: top;\n",
              "    }\n",
              "\n",
              "    .dataframe thead th {\n",
              "        text-align: right;\n",
              "    }\n",
              "</style>\n",
              "<table border=\"1\" class=\"dataframe\">\n",
              "  <thead>\n",
              "    <tr style=\"text-align: right;\">\n",
              "      <th></th>\n",
              "      <th>date</th>\n",
              "      <th>secid</th>\n",
              "      <th>bd1</th>\n",
              "    </tr>\n",
              "  </thead>\n",
              "  <tbody>\n",
              "    <tr>\n",
              "      <th>0</th>\n",
              "      <td>2017-06-29</td>\n",
              "      <td>2741</td>\n",
              "      <td>-0.017449</td>\n",
              "    </tr>\n",
              "    <tr>\n",
              "      <th>1</th>\n",
              "      <td>2017-06-29</td>\n",
              "      <td>4717</td>\n",
              "      <td>0.106220</td>\n",
              "    </tr>\n",
              "    <tr>\n",
              "      <th>2</th>\n",
              "      <td>2017-06-29</td>\n",
              "      <td>3905</td>\n",
              "      <td>0.027050</td>\n",
              "    </tr>\n",
              "    <tr>\n",
              "      <th>3</th>\n",
              "      <td>2017-06-29</td>\n",
              "      <td>3107</td>\n",
              "      <td>0.055955</td>\n",
              "    </tr>\n",
              "    <tr>\n",
              "      <th>4</th>\n",
              "      <td>2017-06-29</td>\n",
              "      <td>605</td>\n",
              "      <td>0.060428</td>\n",
              "    </tr>\n",
              "  </tbody>\n",
              "</table>\n",
              "</div>"
            ],
            "text/plain": [
              "         date  secid       bd1\n",
              "0  2017-06-29   2741 -0.017449\n",
              "1  2017-06-29   4717  0.106220\n",
              "2  2017-06-29   3905  0.027050\n",
              "3  2017-06-29   3107  0.055955\n",
              "4  2017-06-29    605  0.060428"
            ]
          },
          "metadata": {
            "tags": []
          },
          "execution_count": 307
        }
      ]
    },
    {
      "cell_type": "markdown",
      "metadata": {
        "id": "HhXhik53ua56"
      },
      "source": [
        "# Basic pandas operations (2 points each)\n",
        "\n",
        "Please write some code to perform the following basic tasks:\n",
        "1. Print the data types in `univ` and `brtn`. Does anything look off? If so, fix that issue in-place (i.e., mutate `univ` and `brtn` accordingly).\n",
        "2. Set an appropriate index on `univ` and `brtn`, and then sort by the index. Do this in-place (i.e., overwrite `univ` and `brtn`).\n",
        "3. Count the number of securities in `univ` on each date.\n",
        "4. Count the number of securities in each sector (`gic2`) on each date.\n",
        "5. Plot the number of securities in each sector through time in an appropriate way.\n",
        "6. Compute the average return for each stock in the universe on each date."
      ]
    },
    {
      "cell_type": "code",
      "metadata": {
        "id": "FABrk57adocb"
      },
      "source": [
        "# Print the dtypes for both dataframes.\n",
        "# Do any of the data types look inappropriate? If so, please fix them. (Hint: pandas will display string types as `object`).\n",
        "univ['date']=pd.to_datetime(univ['date'])\n",
        "brtn['date']=pd.to_datetime(brtn['date'])"
      ],
      "execution_count": 308,
      "outputs": []
    },
    {
      "cell_type": "code",
      "metadata": {
        "id": "NIOh5Bt1udP2"
      },
      "source": [
        "# Set an appropriate index on univ and brtn, then sort by this index. \n",
        "# A good index should uniquely identify every row.\n",
        "univ.set_index(['date','secid'],inplace=True)\n",
        "brtn.set_index(['date','secid'],inplace=True)\n",
        "univ.sort_index(inplace=True)\n",
        "brtn.sort_index(inplace=True)"
      ],
      "execution_count": 309,
      "outputs": []
    },
    {
      "cell_type": "code",
      "metadata": {
        "id": "4nTFssBKu-OU",
        "colab": {
          "base_uri": "https://localhost:8080/",
          "height": 450
        },
        "outputId": "971c7e76-9c52-4e35-f8c8-9025a42c084a"
      },
      "source": [
        "# Show the n of umbersecurities in univ on each date\n",
        "univ.reset_index().groupby(['date'])[['secid']].count()"
      ],
      "execution_count": 310,
      "outputs": [
        {
          "output_type": "execute_result",
          "data": {
            "text/html": [
              "<div>\n",
              "<style scoped>\n",
              "    .dataframe tbody tr th:only-of-type {\n",
              "        vertical-align: middle;\n",
              "    }\n",
              "\n",
              "    .dataframe tbody tr th {\n",
              "        vertical-align: top;\n",
              "    }\n",
              "\n",
              "    .dataframe thead th {\n",
              "        text-align: right;\n",
              "    }\n",
              "</style>\n",
              "<table border=\"1\" class=\"dataframe\">\n",
              "  <thead>\n",
              "    <tr style=\"text-align: right;\">\n",
              "      <th></th>\n",
              "      <th>secid</th>\n",
              "    </tr>\n",
              "    <tr>\n",
              "      <th>date</th>\n",
              "      <th></th>\n",
              "    </tr>\n",
              "  </thead>\n",
              "  <tbody>\n",
              "    <tr>\n",
              "      <th>2018-06-27</th>\n",
              "      <td>1436</td>\n",
              "    </tr>\n",
              "    <tr>\n",
              "      <th>2018-06-28</th>\n",
              "      <td>1438</td>\n",
              "    </tr>\n",
              "    <tr>\n",
              "      <th>2018-06-29</th>\n",
              "      <td>1439</td>\n",
              "    </tr>\n",
              "    <tr>\n",
              "      <th>2018-07-02</th>\n",
              "      <td>1440</td>\n",
              "    </tr>\n",
              "    <tr>\n",
              "      <th>2018-07-03</th>\n",
              "      <td>1446</td>\n",
              "    </tr>\n",
              "    <tr>\n",
              "      <th>...</th>\n",
              "      <td>...</td>\n",
              "    </tr>\n",
              "    <tr>\n",
              "      <th>2019-06-24</th>\n",
              "      <td>1341</td>\n",
              "    </tr>\n",
              "    <tr>\n",
              "      <th>2019-06-25</th>\n",
              "      <td>1340</td>\n",
              "    </tr>\n",
              "    <tr>\n",
              "      <th>2019-06-26</th>\n",
              "      <td>1350</td>\n",
              "    </tr>\n",
              "    <tr>\n",
              "      <th>2019-06-27</th>\n",
              "      <td>1358</td>\n",
              "    </tr>\n",
              "    <tr>\n",
              "      <th>2019-06-28</th>\n",
              "      <td>1384</td>\n",
              "    </tr>\n",
              "  </tbody>\n",
              "</table>\n",
              "<p>253 rows × 1 columns</p>\n",
              "</div>"
            ],
            "text/plain": [
              "            secid\n",
              "date             \n",
              "2018-06-27   1436\n",
              "2018-06-28   1438\n",
              "2018-06-29   1439\n",
              "2018-07-02   1440\n",
              "2018-07-03   1446\n",
              "...           ...\n",
              "2019-06-24   1341\n",
              "2019-06-25   1340\n",
              "2019-06-26   1350\n",
              "2019-06-27   1358\n",
              "2019-06-28   1384\n",
              "\n",
              "[253 rows x 1 columns]"
            ]
          },
          "metadata": {
            "tags": []
          },
          "execution_count": 310
        }
      ]
    },
    {
      "cell_type": "code",
      "metadata": {
        "id": "sEpSS0AzyAB4",
        "colab": {
          "base_uri": "https://localhost:8080/",
          "height": 450
        },
        "outputId": "b18d3cad-c1e1-4d4f-8cbd-6099b2872775"
      },
      "source": [
        "# Show the number of securities in each sector on each date\n",
        "univ.groupby(['date'])['gic2'].value_counts().unstack()"
      ],
      "execution_count": 311,
      "outputs": [
        {
          "output_type": "execute_result",
          "data": {
            "text/html": [
              "<div>\n",
              "<style scoped>\n",
              "    .dataframe tbody tr th:only-of-type {\n",
              "        vertical-align: middle;\n",
              "    }\n",
              "\n",
              "    .dataframe tbody tr th {\n",
              "        vertical-align: top;\n",
              "    }\n",
              "\n",
              "    .dataframe thead th {\n",
              "        text-align: right;\n",
              "    }\n",
              "</style>\n",
              "<table border=\"1\" class=\"dataframe\">\n",
              "  <thead>\n",
              "    <tr style=\"text-align: right;\">\n",
              "      <th>gic2</th>\n",
              "      <th>10</th>\n",
              "      <th>15</th>\n",
              "      <th>20</th>\n",
              "      <th>25</th>\n",
              "      <th>30</th>\n",
              "      <th>35</th>\n",
              "      <th>40</th>\n",
              "      <th>45</th>\n",
              "      <th>50</th>\n",
              "      <th>55</th>\n",
              "      <th>60</th>\n",
              "    </tr>\n",
              "    <tr>\n",
              "      <th>date</th>\n",
              "      <th></th>\n",
              "      <th></th>\n",
              "      <th></th>\n",
              "      <th></th>\n",
              "      <th></th>\n",
              "      <th></th>\n",
              "      <th></th>\n",
              "      <th></th>\n",
              "      <th></th>\n",
              "      <th></th>\n",
              "      <th></th>\n",
              "    </tr>\n",
              "  </thead>\n",
              "  <tbody>\n",
              "    <tr>\n",
              "      <th>2018-06-27</th>\n",
              "      <td>122</td>\n",
              "      <td>88</td>\n",
              "      <td>188</td>\n",
              "      <td>223</td>\n",
              "      <td>69</td>\n",
              "      <td>195</td>\n",
              "      <td>192</td>\n",
              "      <td>265</td>\n",
              "      <td>12</td>\n",
              "      <td>53</td>\n",
              "      <td>29</td>\n",
              "    </tr>\n",
              "    <tr>\n",
              "      <th>2018-06-28</th>\n",
              "      <td>121</td>\n",
              "      <td>87</td>\n",
              "      <td>188</td>\n",
              "      <td>224</td>\n",
              "      <td>69</td>\n",
              "      <td>196</td>\n",
              "      <td>190</td>\n",
              "      <td>268</td>\n",
              "      <td>13</td>\n",
              "      <td>53</td>\n",
              "      <td>29</td>\n",
              "    </tr>\n",
              "    <tr>\n",
              "      <th>2018-06-29</th>\n",
              "      <td>122</td>\n",
              "      <td>86</td>\n",
              "      <td>189</td>\n",
              "      <td>222</td>\n",
              "      <td>69</td>\n",
              "      <td>198</td>\n",
              "      <td>191</td>\n",
              "      <td>267</td>\n",
              "      <td>13</td>\n",
              "      <td>53</td>\n",
              "      <td>29</td>\n",
              "    </tr>\n",
              "    <tr>\n",
              "      <th>2018-07-02</th>\n",
              "      <td>119</td>\n",
              "      <td>86</td>\n",
              "      <td>190</td>\n",
              "      <td>221</td>\n",
              "      <td>69</td>\n",
              "      <td>199</td>\n",
              "      <td>190</td>\n",
              "      <td>270</td>\n",
              "      <td>13</td>\n",
              "      <td>53</td>\n",
              "      <td>30</td>\n",
              "    </tr>\n",
              "    <tr>\n",
              "      <th>2018-07-03</th>\n",
              "      <td>119</td>\n",
              "      <td>89</td>\n",
              "      <td>191</td>\n",
              "      <td>222</td>\n",
              "      <td>68</td>\n",
              "      <td>200</td>\n",
              "      <td>192</td>\n",
              "      <td>269</td>\n",
              "      <td>13</td>\n",
              "      <td>53</td>\n",
              "      <td>30</td>\n",
              "    </tr>\n",
              "    <tr>\n",
              "      <th>...</th>\n",
              "      <td>...</td>\n",
              "      <td>...</td>\n",
              "      <td>...</td>\n",
              "      <td>...</td>\n",
              "      <td>...</td>\n",
              "      <td>...</td>\n",
              "      <td>...</td>\n",
              "      <td>...</td>\n",
              "      <td>...</td>\n",
              "      <td>...</td>\n",
              "      <td>...</td>\n",
              "    </tr>\n",
              "    <tr>\n",
              "      <th>2019-06-24</th>\n",
              "      <td>79</td>\n",
              "      <td>84</td>\n",
              "      <td>181</td>\n",
              "      <td>181</td>\n",
              "      <td>63</td>\n",
              "      <td>183</td>\n",
              "      <td>175</td>\n",
              "      <td>237</td>\n",
              "      <td>76</td>\n",
              "      <td>54</td>\n",
              "      <td>28</td>\n",
              "    </tr>\n",
              "    <tr>\n",
              "      <th>2019-06-25</th>\n",
              "      <td>79</td>\n",
              "      <td>84</td>\n",
              "      <td>181</td>\n",
              "      <td>184</td>\n",
              "      <td>63</td>\n",
              "      <td>183</td>\n",
              "      <td>173</td>\n",
              "      <td>236</td>\n",
              "      <td>75</td>\n",
              "      <td>54</td>\n",
              "      <td>28</td>\n",
              "    </tr>\n",
              "    <tr>\n",
              "      <th>2019-06-26</th>\n",
              "      <td>81</td>\n",
              "      <td>87</td>\n",
              "      <td>183</td>\n",
              "      <td>184</td>\n",
              "      <td>65</td>\n",
              "      <td>184</td>\n",
              "      <td>170</td>\n",
              "      <td>236</td>\n",
              "      <td>78</td>\n",
              "      <td>53</td>\n",
              "      <td>29</td>\n",
              "    </tr>\n",
              "    <tr>\n",
              "      <th>2019-06-27</th>\n",
              "      <td>81</td>\n",
              "      <td>87</td>\n",
              "      <td>185</td>\n",
              "      <td>185</td>\n",
              "      <td>66</td>\n",
              "      <td>186</td>\n",
              "      <td>170</td>\n",
              "      <td>237</td>\n",
              "      <td>78</td>\n",
              "      <td>53</td>\n",
              "      <td>30</td>\n",
              "    </tr>\n",
              "    <tr>\n",
              "      <th>2019-06-28</th>\n",
              "      <td>84</td>\n",
              "      <td>88</td>\n",
              "      <td>189</td>\n",
              "      <td>187</td>\n",
              "      <td>66</td>\n",
              "      <td>193</td>\n",
              "      <td>173</td>\n",
              "      <td>241</td>\n",
              "      <td>79</td>\n",
              "      <td>54</td>\n",
              "      <td>30</td>\n",
              "    </tr>\n",
              "  </tbody>\n",
              "</table>\n",
              "<p>253 rows × 11 columns</p>\n",
              "</div>"
            ],
            "text/plain": [
              "gic2         10  15   20   25  30   35   40   45  50  55  60\n",
              "date                                                        \n",
              "2018-06-27  122  88  188  223  69  195  192  265  12  53  29\n",
              "2018-06-28  121  87  188  224  69  196  190  268  13  53  29\n",
              "2018-06-29  122  86  189  222  69  198  191  267  13  53  29\n",
              "2018-07-02  119  86  190  221  69  199  190  270  13  53  30\n",
              "2018-07-03  119  89  191  222  68  200  192  269  13  53  30\n",
              "...         ...  ..  ...  ...  ..  ...  ...  ...  ..  ..  ..\n",
              "2019-06-24   79  84  181  181  63  183  175  237  76  54  28\n",
              "2019-06-25   79  84  181  184  63  183  173  236  75  54  28\n",
              "2019-06-26   81  87  183  184  65  184  170  236  78  53  29\n",
              "2019-06-27   81  87  185  185  66  186  170  237  78  53  30\n",
              "2019-06-28   84  88  189  187  66  193  173  241  79  54  30\n",
              "\n",
              "[253 rows x 11 columns]"
            ]
          },
          "metadata": {
            "tags": []
          },
          "execution_count": 311
        }
      ]
    },
    {
      "cell_type": "code",
      "metadata": {
        "id": "Ytlt_30MyFMk",
        "colab": {
          "base_uri": "https://localhost:8080/",
          "height": 294
        },
        "outputId": "2e2e4cff-9572-4d7e-bcd3-b7b0dacd147f"
      },
      "source": [
        "# Plot the number of securities in each sector over time.\n",
        "univ.groupby(['date'])['gic2'].value_counts().unstack().plot()"
      ],
      "execution_count": 312,
      "outputs": [
        {
          "output_type": "execute_result",
          "data": {
            "text/plain": [
              "<matplotlib.axes._subplots.AxesSubplot at 0x7f804347e650>"
            ]
          },
          "metadata": {
            "tags": []
          },
          "execution_count": 312
        },
        {
          "output_type": "display_data",
          "data": {
            "image/png": "[encoded data removed]",
            "text/plain": [
              "<Figure size 432x288 with 1 Axes>"
            ]
          },
          "metadata": {
            "tags": [],
            "needs_background": "light"
          }
        }
      ]
    },
    {
      "cell_type": "code",
      "metadata": {
        "id": "oYbBGNEiyKG3",
        "colab": {
          "base_uri": "https://localhost:8080/"
        },
        "outputId": "408f1cc7-04d2-45ed-d255-df0c041a0f62"
      },
      "source": [
        "# Compute the average return for all stocks in `univ` by date.\n",
        "brtn.join(univ).groupby('date')['bd1'].mean()"
      ],
      "execution_count": 313,
      "outputs": [
        {
          "output_type": "execute_result",
          "data": {
            "text/plain": [
              "date\n",
              "2017-06-29   -0.001711\n",
              "2017-06-30    0.003829\n",
              "2017-07-03    0.010405\n",
              "2017-07-05   -0.000944\n",
              "2017-07-06   -0.004804\n",
              "                ...   \n",
              "2019-06-24   -0.004748\n",
              "2019-06-25   -0.003538\n",
              "2019-06-26    0.000339\n",
              "2019-06-27    0.010953\n",
              "2019-06-28    0.007989\n",
              "Name: bd1, Length: 503, dtype: float64"
            ]
          },
          "metadata": {
            "tags": []
          },
          "execution_count": 313
        }
      ]
    },
    {
      "cell_type": "markdown",
      "metadata": {
        "id": "QFxoPxaK3XLf"
      },
      "source": [
        "# More complex tasks (4 points each)\n",
        "1. Write a function that does the following:\n",
        "    1. Given a date `dt`, finds the subset of stocks in `univ` on `dt`. \n",
        "    2. Get the rows in `brtn` for all dates between `dt` and the 1 year prior to `dt` that match the universe as of `dt` you found in (1.1).\n",
        "    3. Returns a DataFrame which contains the daily returns of all stocks in `univ` on `dt` for each of these dates found in (1.2).\n",
        "\n",
        "2. Write a function that computes the 1-year daily beta as of `dt` for every stock in `univ` against the equally-weighted universe (i.e., the average return). Beta is a measure of risk, and it indicates how much a stock's returns covary with the universe's returns. The formula for beta is: $Beta(A,B) = Covar(A,B) / Var(B)$\n",
        "\n",
        "3. Compute the 1-year total return for each stock in the universe as of some `dt`. Make a chart comparing this total return figure to the betas you produced by running `get_betas()`."
      ]
    },
    {
      "cell_type": "code",
      "metadata": {
        "id": "E3xfqxwS2AG0",
        "colab": {
          "base_uri": "https://localhost:8080/"
        },
        "outputId": "6b2a7a6c-e2ef-468b-ad0a-7f613cad1959"
      },
      "source": [
        "# trailing year's daily returns for the univ as of `dt`\n",
        "def get_univ_brtn(dt: pd.Timestamp) -> pd.DataFrame:\n",
        "    \"\"\" Returns the trailing calendar year of returns\n",
        "    \n",
        "    Parameters\n",
        "    ----------\n",
        "    dt : pd.Timestamp\n",
        "\n",
        "    Returns\n",
        "    -------\n",
        "    ub : pd.DataFrame or pd.Series\n",
        "\n",
        "    \"\"\"\n",
        "\n",
        "    subset_univ = univ.loc[dt]\n",
        "    subset_brtn = brtn[dt-pd.DateOffset(years=1): dt]\n",
        "    ub = subset_univ.join(subset_brtn).loc[:, 'bd1']\n",
        "\n",
        "    return ub, subset_univ\n",
        "\n",
        "ub, _ = get_univ_brtn(pd.Timestamp('2018-06-27'))\n",
        "ub"
      ],
      "execution_count": 314,
      "outputs": [
        {
          "output_type": "execute_result",
          "data": {
            "text/plain": [
              "date        secid\n",
              "2017-06-29  7        0.075851\n",
              "            8       -0.022878\n",
              "            9       -0.040154\n",
              "            10      -0.044911\n",
              "            11       0.063505\n",
              "                       ...   \n",
              "2018-06-27  4794     0.035959\n",
              "            4797     0.089798\n",
              "            4802     0.080961\n",
              "            4803     0.273783\n",
              "            4805    -0.083496\n",
              "Name: bd1, Length: 357702, dtype: float64"
            ]
          },
          "metadata": {
            "tags": []
          },
          "execution_count": 314
        }
      ]
    },
    {
      "cell_type": "code",
      "metadata": {
        "id": "irsM47TK5Kcs"
      },
      "source": [
        "# compute 1-year trailing beta to the universe as of `dt`\n",
        "def get_betas(univ_brtn: pd.DataFrame) -> pd.Series:\n",
        "    \"\"\" Returns the 1-year trailing beta to the cross-sectional mean.\n",
        "\n",
        "    Parameters\n",
        "    ----------\n",
        "    univ_brtn: pd.DataFrame\n",
        "\n",
        "    Returns\n",
        "    -------\n",
        "    betas : pd.Series\n",
        "        The beta of each security to the daily cross-sectional mean in `univ_brtn`\n",
        "    \"\"\"\n",
        "    def _get_betas(df):\n",
        "        # https://stackoverflow.com/questions/39501277/efficient-python-pandas-stock-beta-calculation-on-many-dataframes\n",
        "        # first column is the market\n",
        "        X = df.values[:, [-1]]\n",
        "        # prepend a column of ones for the intercept\n",
        "        X = np.concatenate([np.ones_like(X), X], axis=1)\n",
        "        # matrix algebra\n",
        "        b = np.linalg.pinv(X.T.dot(X)).dot(X.T).dot(df.values[:, :-1])\n",
        "        return pd.Series(b[1], df.columns[:-1], name='Beta')\n",
        "\n",
        "    combined_return = univ_brtn.unstack().join(brtn.join(univ).groupby('date')['bd1'].mean()).dropna()\n",
        "    \n",
        "    betas = _get_betas(combined_return)\n",
        "\n",
        "    return betas\n",
        "    \n",
        "betas = get_betas(ub)"
      ],
      "execution_count": 315,
      "outputs": []
    },
    {
      "cell_type": "code",
      "metadata": {
        "id": "JkX--2q48SAt",
        "colab": {
          "base_uri": "https://localhost:8080/",
          "height": 333
        },
        "outputId": "2abc1294-5ba6-47fc-e97c-66605ade7909"
      },
      "source": [
        "# plot the betas on a given date against the trailing 1-year return as of that date\n",
        "pd.DataFrame(betas).join(ub.reset_index().set_index('date').groupby('secid').mean()).plot.scatter(x='bd1',y='Beta',s=1)"
      ],
      "execution_count": 316,
      "outputs": [
        {
          "output_type": "stream",
          "text": [
            "*c* argument looks like a single numeric RGB or RGBA sequence, which should be avoided as value-mapping will have precedence in case its length matches with *x* & *y*.  Please use the *color* keyword-argument or provide a 2-D array with a single row if you intend to specify the same RGB or RGBA value for all points.\n"
          ],
          "name": "stderr"
        },
        {
          "output_type": "execute_result",
          "data": {
            "text/plain": [
              "<matplotlib.axes._subplots.AxesSubplot at 0x7f80436aad50>"
            ]
          },
          "metadata": {
            "tags": []
          },
          "execution_count": 316
        },
        {
          "output_type": "display_data",
          "data": {
            "image/png": "[encoded data removed]",
            "text/plain": [
              "<Figure size 432x288 with 1 Axes>"
            ]
          },
          "metadata": {
            "tags": [],
            "needs_background": "light"
          }
        }
      ]
    },
    {
      "cell_type": "markdown",
      "metadata": {
        "id": "-61FOOs-_Gkh"
      },
      "source": [
        "# Putting it together (10 points in total)\n",
        "\n",
        "1. Write a function that does the following:\n",
        "    1. Gets the betas as of a given date.\n",
        "    2. Produces the 3-month, 6-month, and 12-month trailing return as of that date *(NB: there are 252 trading days in a year)*.\n",
        "    3. Adjusts the trailing returns for beta and sector (`gic2`) in a way that you think is reasonable.\n",
        "    4. Normalizes the resulting signals in a way you think is reasonable.\n",
        "    5. Produces a 4th signal that combines the 3 signals above in a reasonable way.\n",
        "\n",
        "3. Find the last date of each month in your data set, and produce the signal for each of those month-end dates.\n",
        "\n",
        "4. For extra credit, perform some perfunctory analysis on your result."
      ]
    },
    {
      "cell_type": "code",
      "metadata": {
        "id": "UskI6t6K-AmC",
        "colab": {
          "base_uri": "https://localhost:8080/",
          "height": 419
        },
        "outputId": "6274f137-8b5e-429b-e969-a4bd21df9683"
      },
      "source": [
        "def make_signals(dt: pd.Timestamp) -> pd.DataFrame:\n",
        "    \"\"\"\n",
        "    Parameters\n",
        "    ----------\n",
        "    dt : pd.Timestamp\n",
        "\n",
        "    Returns\n",
        "    -------\n",
        "    sigs : pd.DataFrame\n",
        "    \"\"\"\n",
        "    ub, subset_univ = get_univ_brtn(dt)\n",
        "\n",
        "    trailing_return_12_mo = ub.reset_index().set_index('date').groupby('secid').mean().rename({'bd1':'mom_12'},axis=1)\n",
        "    trailing_return_6_mo = ub[dt-pd.DateOffset(months=6): dt].reset_index().set_index('date').groupby('secid').mean().rename({'bd1':'mom_6'},axis=1)\n",
        "    trailing_return_3_mo = ub[dt-pd.DateOffset(months=3): dt].reset_index().set_index('date').groupby('secid').mean().rename({'bd1':'mom_3'},axis=1)\n",
        "    betas = get_betas(ub)\n",
        "    merged_df = pd.concat([trailing_return_12_mo, trailing_return_6_mo, trailing_return_3_mo, betas],axis=1).join(subset_univ)\n",
        "    one_hot_gic2 = pd.get_dummies(merged_df['gic2'], prefix='gic2_')\n",
        "    merged_df = merged_df.join(one_hot_gic2)\n",
        "    merged_df.drop(columns=['gic2'],inplace=True)\n",
        "\n",
        "    for col in ['mom_12','mom_6','mom_3']:\n",
        "        y = merged_df[col]\n",
        "        X = merged_df.iloc[:, 3:]\n",
        "        residual=sm.OLS(y, X).fit().resid\n",
        "        merged_df[f'{col}_residual']=residual\n",
        "    merged_df['combined_mom'] = merged_df['mom_3_residual'] * 0.5 + merged_df['mom_6_residual'] * 0.3 + merged_df['mom_12_residual'] * 0.2\n",
        "    sigs = pd.DataFrame(merged_df['combined_mom'])\n",
        "    sigs['date'] = dt\n",
        "    sigs=sigs.reset_index().rename({\"index\":\"secid\"},axis=1)\n",
        "    return sigs\n",
        "\n",
        "make_signals(pd.Timestamp('2018-06-27'))"
      ],
      "execution_count": 317,
      "outputs": [
        {
          "output_type": "execute_result",
          "data": {
            "text/html": [
              "<div>\n",
              "<style scoped>\n",
              "    .dataframe tbody tr th:only-of-type {\n",
              "        vertical-align: middle;\n",
              "    }\n",
              "\n",
              "    .dataframe tbody tr th {\n",
              "        vertical-align: top;\n",
              "    }\n",
              "\n",
              "    .dataframe thead th {\n",
              "        text-align: right;\n",
              "    }\n",
              "</style>\n",
              "<table border=\"1\" class=\"dataframe\">\n",
              "  <thead>\n",
              "    <tr style=\"text-align: right;\">\n",
              "      <th></th>\n",
              "      <th>secid</th>\n",
              "      <th>combined_mom</th>\n",
              "      <th>date</th>\n",
              "    </tr>\n",
              "  </thead>\n",
              "  <tbody>\n",
              "    <tr>\n",
              "      <th>0</th>\n",
              "      <td>7</td>\n",
              "      <td>0.003314</td>\n",
              "      <td>2018-06-27</td>\n",
              "    </tr>\n",
              "    <tr>\n",
              "      <th>1</th>\n",
              "      <td>8</td>\n",
              "      <td>-0.006086</td>\n",
              "      <td>2018-06-27</td>\n",
              "    </tr>\n",
              "    <tr>\n",
              "      <th>2</th>\n",
              "      <td>9</td>\n",
              "      <td>-0.003236</td>\n",
              "      <td>2018-06-27</td>\n",
              "    </tr>\n",
              "    <tr>\n",
              "      <th>3</th>\n",
              "      <td>10</td>\n",
              "      <td>0.005188</td>\n",
              "      <td>2018-06-27</td>\n",
              "    </tr>\n",
              "    <tr>\n",
              "      <th>4</th>\n",
              "      <td>11</td>\n",
              "      <td>0.002484</td>\n",
              "      <td>2018-06-27</td>\n",
              "    </tr>\n",
              "    <tr>\n",
              "      <th>...</th>\n",
              "      <td>...</td>\n",
              "      <td>...</td>\n",
              "      <td>...</td>\n",
              "    </tr>\n",
              "    <tr>\n",
              "      <th>1431</th>\n",
              "      <td>4794</td>\n",
              "      <td>-0.002485</td>\n",
              "      <td>2018-06-27</td>\n",
              "    </tr>\n",
              "    <tr>\n",
              "      <th>1432</th>\n",
              "      <td>4797</td>\n",
              "      <td>0.002070</td>\n",
              "      <td>2018-06-27</td>\n",
              "    </tr>\n",
              "    <tr>\n",
              "      <th>1433</th>\n",
              "      <td>4802</td>\n",
              "      <td>-0.004131</td>\n",
              "      <td>2018-06-27</td>\n",
              "    </tr>\n",
              "    <tr>\n",
              "      <th>1434</th>\n",
              "      <td>4803</td>\n",
              "      <td>-0.001331</td>\n",
              "      <td>2018-06-27</td>\n",
              "    </tr>\n",
              "    <tr>\n",
              "      <th>1435</th>\n",
              "      <td>4805</td>\n",
              "      <td>0.000252</td>\n",
              "      <td>2018-06-27</td>\n",
              "    </tr>\n",
              "  </tbody>\n",
              "</table>\n",
              "<p>1436 rows × 3 columns</p>\n",
              "</div>"
            ],
            "text/plain": [
              "      secid  combined_mom       date\n",
              "0         7      0.003314 2018-06-27\n",
              "1         8     -0.006086 2018-06-27\n",
              "2         9     -0.003236 2018-06-27\n",
              "3        10      0.005188 2018-06-27\n",
              "4        11      0.002484 2018-06-27\n",
              "...     ...           ...        ...\n",
              "1431   4794     -0.002485 2018-06-27\n",
              "1432   4797      0.002070 2018-06-27\n",
              "1433   4802     -0.004131 2018-06-27\n",
              "1434   4803     -0.001331 2018-06-27\n",
              "1435   4805      0.000252 2018-06-27\n",
              "\n",
              "[1436 rows x 3 columns]"
            ]
          },
          "metadata": {
            "tags": []
          },
          "execution_count": 317
        }
      ]
    },
    {
      "cell_type": "code",
      "metadata": {
        "id": "rV-yh4UvC6SI",
        "colab": {
          "base_uri": "https://localhost:8080/"
        },
        "outputId": "663cccf4-1e7c-4349-cb2d-4403efbed231"
      },
      "source": [
        "# Produce the set of month-end dates\n",
        "month_end_date=univ.reset_index()\n",
        "month_end_date['month_end'] =  pd.to_datetime(month_end_date['date'], format=\"%Y%m\") + pd.tseries.offsets.BMonthEnd(0)\n",
        "print(month_end_date['month_end'].unique())"
      ],
      "execution_count": 318,
      "outputs": [
        {
          "output_type": "stream",
          "text": [
            "['2018-06-29T00:00:00.000000000' '2018-07-31T00:00:00.000000000'\n",
            " '2018-08-31T00:00:00.000000000' '2018-09-28T00:00:00.000000000'\n",
            " '2018-10-31T00:00:00.000000000' '2018-11-30T00:00:00.000000000'\n",
            " '2018-12-31T00:00:00.000000000' '2019-01-31T00:00:00.000000000'\n",
            " '2019-02-28T00:00:00.000000000' '2019-03-29T00:00:00.000000000'\n",
            " '2019-04-30T00:00:00.000000000' '2019-05-31T00:00:00.000000000'\n",
            " '2019-06-28T00:00:00.000000000']\n"
          ],
          "name": "stdout"
        }
      ]
    },
    {
      "cell_type": "code",
      "metadata": {
        "id": "TG3exg_YDN6v",
        "colab": {
          "base_uri": "https://localhost:8080/"
        },
        "outputId": "6c195cbb-5836-4e1c-82ed-a65ef5f55dbd"
      },
      "source": [
        "# Create a dataframe with the signals as of each month-end date\n",
        "signal_df = pd.DataFrame()\n",
        "for m_end_date in tqdm(month_end_date['month_end'].unique()):\n",
        "    signal_df = signal_df.append(make_signals(pd.to_datetime(m_end_date)))"
      ],
      "execution_count": 319,
      "outputs": [
        {
          "output_type": "stream",
          "text": [
            "\n",
            "  0%|          | 0/13 [00:00<?, ?it/s]\u001b[A\n",
            "  8%|▊         | 1/13 [00:01<00:12,  1.04s/it]\u001b[A\n",
            " 15%|█▌        | 2/13 [00:02<00:11,  1.05s/it]\u001b[A\n",
            " 23%|██▎       | 3/13 [00:03<00:10,  1.06s/it]\u001b[A\n",
            " 31%|███       | 4/13 [00:04<00:09,  1.06s/it]\u001b[A\n",
            " 38%|███▊      | 5/13 [00:05<00:08,  1.05s/it]\u001b[A\n",
            " 46%|████▌     | 6/13 [00:06<00:07,  1.05s/it]\u001b[A\n",
            " 54%|█████▍    | 7/13 [00:07<00:06,  1.05s/it]\u001b[A\n",
            " 62%|██████▏   | 8/13 [00:08<00:05,  1.06s/it]\u001b[A\n",
            " 69%|██████▉   | 9/13 [00:09<00:04,  1.05s/it]\u001b[A\n",
            " 77%|███████▋  | 10/13 [00:10<00:03,  1.06s/it]\u001b[A\n",
            " 85%|████████▍ | 11/13 [00:11<00:02,  1.06s/it]\u001b[A\n",
            " 92%|█████████▏| 12/13 [00:12<00:01,  1.05s/it]\u001b[A\n",
            "100%|██████████| 13/13 [00:13<00:00,  1.06s/it]\n"
          ],
          "name": "stderr"
        }
      ]
    },
    {
      "cell_type": "code",
      "metadata": {
        "id": "M9wN23nCDWKI"
      },
      "source": [
        "# Do some additional analysis -- what can you tell us about the signal you've created?"
      ],
      "execution_count": 320,
      "outputs": []
    },
    {
      "cell_type": "code",
      "metadata": {
        "colab": {
          "base_uri": "https://localhost:8080/",
          "height": 419
        },
        "id": "YGcUe0MWmNwn",
        "outputId": "6d6f5cb2-32d9-4c47-dace-3977714c79d3"
      },
      "source": [
        "signal_df"
      ],
      "execution_count": 321,
      "outputs": [
        {
          "output_type": "execute_result",
          "data": {
            "text/html": [
              "<div>\n",
              "<style scoped>\n",
              "    .dataframe tbody tr th:only-of-type {\n",
              "        vertical-align: middle;\n",
              "    }\n",
              "\n",
              "    .dataframe tbody tr th {\n",
              "        vertical-align: top;\n",
              "    }\n",
              "\n",
              "    .dataframe thead th {\n",
              "        text-align: right;\n",
              "    }\n",
              "</style>\n",
              "<table border=\"1\" class=\"dataframe\">\n",
              "  <thead>\n",
              "    <tr style=\"text-align: right;\">\n",
              "      <th></th>\n",
              "      <th>secid</th>\n",
              "      <th>combined_mom</th>\n",
              "      <th>date</th>\n",
              "    </tr>\n",
              "  </thead>\n",
              "  <tbody>\n",
              "    <tr>\n",
              "      <th>0</th>\n",
              "      <td>7</td>\n",
              "      <td>0.003171</td>\n",
              "      <td>2018-06-29</td>\n",
              "    </tr>\n",
              "    <tr>\n",
              "      <th>1</th>\n",
              "      <td>8</td>\n",
              "      <td>-0.004996</td>\n",
              "      <td>2018-06-29</td>\n",
              "    </tr>\n",
              "    <tr>\n",
              "      <th>2</th>\n",
              "      <td>9</td>\n",
              "      <td>-0.003283</td>\n",
              "      <td>2018-06-29</td>\n",
              "    </tr>\n",
              "    <tr>\n",
              "      <th>3</th>\n",
              "      <td>10</td>\n",
              "      <td>0.004177</td>\n",
              "      <td>2018-06-29</td>\n",
              "    </tr>\n",
              "    <tr>\n",
              "      <th>4</th>\n",
              "      <td>11</td>\n",
              "      <td>0.002327</td>\n",
              "      <td>2018-06-29</td>\n",
              "    </tr>\n",
              "    <tr>\n",
              "      <th>...</th>\n",
              "      <td>...</td>\n",
              "      <td>...</td>\n",
              "      <td>...</td>\n",
              "    </tr>\n",
              "    <tr>\n",
              "      <th>1379</th>\n",
              "      <td>4785</td>\n",
              "      <td>0.003106</td>\n",
              "      <td>2019-06-28</td>\n",
              "    </tr>\n",
              "    <tr>\n",
              "      <th>1380</th>\n",
              "      <td>4787</td>\n",
              "      <td>0.000528</td>\n",
              "      <td>2019-06-28</td>\n",
              "    </tr>\n",
              "    <tr>\n",
              "      <th>1381</th>\n",
              "      <td>4794</td>\n",
              "      <td>-0.000252</td>\n",
              "      <td>2019-06-28</td>\n",
              "    </tr>\n",
              "    <tr>\n",
              "      <th>1382</th>\n",
              "      <td>4803</td>\n",
              "      <td>-0.001176</td>\n",
              "      <td>2019-06-28</td>\n",
              "    </tr>\n",
              "    <tr>\n",
              "      <th>1383</th>\n",
              "      <td>4805</td>\n",
              "      <td>0.003074</td>\n",
              "      <td>2019-06-28</td>\n",
              "    </tr>\n",
              "  </tbody>\n",
              "</table>\n",
              "<p>17837 rows × 3 columns</p>\n",
              "</div>"
            ],
            "text/plain": [
              "      secid  combined_mom       date\n",
              "0         7      0.003171 2018-06-29\n",
              "1         8     -0.004996 2018-06-29\n",
              "2         9     -0.003283 2018-06-29\n",
              "3        10      0.004177 2018-06-29\n",
              "4        11      0.002327 2018-06-29\n",
              "...     ...           ...        ...\n",
              "1379   4785      0.003106 2019-06-28\n",
              "1380   4787      0.000528 2019-06-28\n",
              "1381   4794     -0.000252 2019-06-28\n",
              "1382   4803     -0.001176 2019-06-28\n",
              "1383   4805      0.003074 2019-06-28\n",
              "\n",
              "[17837 rows x 3 columns]"
            ]
          },
          "metadata": {
            "tags": []
          },
          "execution_count": 321
        }
      ]
    },
    {
      "cell_type": "code",
      "metadata": {
        "id": "CKGikbCHl3eg"
      },
      "source": [
        "import alphalens"
      ],
      "execution_count": 322,
      "outputs": []
    },
    {
      "cell_type": "code",
      "metadata": {
        "id": "fFzVVsTrpkpz"
      },
      "source": [
        ""
      ],
      "execution_count": 323,
      "outputs": []
    },
    {
      "cell_type": "code",
      "metadata": {
        "id": "1ldWLuZqpknX"
      },
      "source": [
        ""
      ],
      "execution_count": 323,
      "outputs": []
    },
    {
      "cell_type": "code",
      "metadata": {
        "id": "pF0_EUq6pklN"
      },
      "source": [
        ""
      ],
      "execution_count": 323,
      "outputs": []
    },
    {
      "cell_type": "code",
      "metadata": {
        "id": "9o30uq1Cpkiw"
      },
      "source": [
        ""
      ],
      "execution_count": null,
      "outputs": []
    },
    {
      "cell_type": "code",
      "metadata": {
        "id": "WF4BPPqZpkgC"
      },
      "source": [
        ""
      ],
      "execution_count": null,
      "outputs": []
    },
    {
      "cell_type": "code",
      "metadata": {
        "id": "Z6SMkqu_pkYK"
      },
      "source": [
        ""
      ],
      "execution_count": null,
      "outputs": []
    },
    {
      "cell_type": "code",
      "metadata": {
        "id": "OoOrOTWOoCra"
      },
      "source": [
        ""
      ],
      "execution_count": null,
      "outputs": []
    },
    {
      "cell_type": "code",
      "metadata": {
        "id": "gGraQmWNqIRp"
      },
      "source": [
        ""
      ],
      "execution_count": null,
      "outputs": []
    }
  ]
}