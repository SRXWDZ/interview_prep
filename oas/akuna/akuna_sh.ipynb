{
 "cells": [
  {
   "cell_type": "code",
   "execution_count": 78,
   "metadata": {},
   "outputs": [
    {
     "data": {
      "text/plain": [
       "16"
      ]
     },
     "execution_count": 78,
     "metadata": {},
     "output_type": "execute_result"
    }
   ],
   "source": [
    "def minTime(processorTime, taskTime):\n",
    "    processorTime.sort()\n",
    "    taskTime.sort(reverse=True)\n",
    "    ans = 0\n",
    "    pointer = 0\n",
    "    for time in processorTime:\n",
    "        for i in range(4):\n",
    "            finish_time = taskTime[pointer] + time\n",
    "            pointer += 1\n",
    "            ans = max(ans, finish_time)\n",
    "    return ans\n",
    "\n",
    "minTime([8,10], [2,2,3,1,8,7,4,5])"
   ]
  },
  {
   "cell_type": "code",
   "execution_count": 79,
   "metadata": {},
   "outputs": [],
   "source": [
    "def areAlmostEquivalent(s, t):\n",
    "    from collections import Counter\n",
    "    res = []\n",
    "\n",
    "    for i in range(len(s)):\n",
    "        si = s[i]\n",
    "        ti = t[i]\n",
    "        \n",
    "        si_counts = Counter(si)\n",
    "        ti_counts = Counter(ti)\n",
    "\n",
    "        almost = True\n",
    "        for k,v in si_counts.items():\n",
    "            if ti_counts.get(k):\n",
    "                if abs(ti_counts[k] - v) > 3:\n",
    "                    almost = False\n",
    "                    break\n",
    "            else:\n",
    "\n",
    "                if v > 3:\n",
    "                    almost = False\n",
    "                    break\n",
    "\n",
    "        val= 'YES' if almost else 'NO'\n",
    "        res.append(val)\n",
    "    \n",
    "    return res"
   ]
  },
  {
   "cell_type": "code",
   "execution_count": 80,
   "metadata": {},
   "outputs": [
    {
     "data": {
      "text/plain": [
       "['YES', 'NO']"
      ]
     },
     "execution_count": 80,
     "metadata": {},
     "output_type": "execute_result"
    }
   ],
   "source": [
    "areAlmostEquivalent(['aabaab','aaaaabb'], ['bbabbc','abb'])"
   ]
  },
  {
   "cell_type": "code",
   "execution_count": 81,
   "metadata": {},
   "outputs": [],
   "source": [
    "def maxHeight(wallPositions, wallHeights):\n",
    "    global_max = 0\n",
    "    local_max = 0\n",
    "    for i in range(1, len(wallPositions)):\n",
    "        if wallPositions[i-1] < wallPositions[i]-1:\n",
    "            height_diff = abs(wallHeights[i] - wallHeights[i-1])\n",
    "            pos_diff = wallPositions[i] - wallPositions[i-1] - 1\n",
    "            \n",
    "            if pos_diff <= height_diff:\n",
    "                local_max = min(wallHeights[i-1], wallHeights[i]) + pos_diff\n",
    "            else:\n",
    "                low = wallHeights[i-1]\n",
    "                high = wallHeights[i]\n",
    "                local_max = max(low, high) +1 + (pos_diff - height_diff -1) // 2\n",
    "        global_max = max(local_max, global_max )\n",
    "    return global_max"
   ]
  },
  {
   "cell_type": "code",
   "execution_count": 82,
   "metadata": {},
   "outputs": [
    {
     "data": {
      "text/plain": [
       "11"
      ]
     },
     "execution_count": 82,
     "metadata": {},
     "output_type": "execute_result"
    }
   ],
   "source": [
    "maxHeight([7,12,16,22,26,29],[8,8,9,8,8,11])"
   ]
  },
  {
   "cell_type": "code",
   "execution_count": null,
   "metadata": {},
   "outputs": [],
   "source": []
  },
  {
   "cell_type": "code",
   "execution_count": null,
   "metadata": {},
   "outputs": [],
   "source": []
  },
  {
   "cell_type": "code",
   "execution_count": null,
   "metadata": {},
   "outputs": [],
   "source": []
  }
 ],
 "metadata": {
  "kernelspec": {
   "display_name": "Python 3",
   "language": "python",
   "name": "python3"
  },
  "language_info": {
   "codemirror_mode": {
    "name": "ipython",
    "version": 3
   },
   "file_extension": ".py",
   "mimetype": "text/x-python",
   "name": "python",
   "nbconvert_exporter": "python",
   "pygments_lexer": "ipython3",
   "version": "3.8.3"
  },
  "toc": {
   "base_numbering": 1,
   "nav_menu": {},
   "number_sections": true,
   "sideBar": true,
   "skip_h1_title": false,
   "title_cell": "Table of Contents",
   "title_sidebar": "Contents",
   "toc_cell": false,
   "toc_position": {},
   "toc_section_display": true,
   "toc_window_display": false
  }
 },
 "nbformat": 4,
 "nbformat_minor": 4
}
